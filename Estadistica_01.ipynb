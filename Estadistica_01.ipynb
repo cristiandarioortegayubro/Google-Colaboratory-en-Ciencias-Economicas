{
  "nbformat": 4,
  "nbformat_minor": 0,
  "metadata": {
    "colab": {
      "name": "Estadistica 01.ipynb",
      "provenance": [],
      "collapsed_sections": [
        "Wnv6fd8qXEpI",
        "72HRusVW08Fw",
        "gHCsU_It1FJV",
        "XxH273Cg1vaB",
        "rzYhMxPN11aa",
        "09uwDlxb2Luf",
        "McOb3QM22USK",
        "72kVpk_T2fw3",
        "rkKNlWl42obY",
        "66Qf9nsg20U-",
        "p3R6LUn7253O",
        "UvduqSe73GrE",
        "BuSyGjn23Lh-"
      ],
      "authorship_tag": "ABX9TyM3bn4QX4pHC6i/Rpi+iApq",
      "include_colab_link": true
    },
    "kernelspec": {
      "name": "python3",
      "display_name": "Python 3"
    }
  },
  "cells": [
    {
      "cell_type": "markdown",
      "metadata": {
        "id": "view-in-github",
        "colab_type": "text"
      },
      "source": [
        "<a href=\"https://colab.research.google.com/github/cristiandarioortegayubro/Google-Colaboratory-en-Ciencias-Economicas/blob/master/Estadistica_01.ipynb\" target=\"_parent\"><img src=\"https://colab.research.google.com/assets/colab-badge.svg\" alt=\"Open In Colab\"/></a>"
      ]
    },
    {
      "cell_type": "markdown",
      "metadata": {
        "id": "7pd4uq7bwFbj",
        "colab_type": "text"
      },
      "source": [
        "# **Fundamentos de Estadística**\n"
      ]
    },
    {
      "cell_type": "markdown",
      "metadata": {
        "id": "se3j0ndtXPkB",
        "colab_type": "text"
      },
      "source": [
        "## **Fundamentos básicos**"
      ]
    },
    {
      "cell_type": "markdown",
      "metadata": {
        "id": "Wnv6fd8qXEpI",
        "colab_type": "text"
      },
      "source": [
        "### Importando las librerías necesarias"
      ]
    },
    {
      "cell_type": "code",
      "metadata": {
        "id": "VxFU65_qmLBL",
        "colab_type": "code",
        "colab": {}
      },
      "source": [
        "import pandas_datareader\n",
        "from pandas_datareader import data\n",
        "import matplotlib.pyplot as plot\n",
        "import pandas as pd"
      ],
      "execution_count": 0,
      "outputs": []
    },
    {
      "cell_type": "markdown",
      "metadata": {
        "id": "86Zs8hh0fm44",
        "colab_type": "text"
      },
      "source": [
        "Se activa la librería pandas_datareader para obtener datos externos, matplotlib para hacer algunos gráficos, y pandas para darle formato a los datos en forma de tabla y poder agregar las variables necesarias (columnas)."
      ]
    },
    {
      "cell_type": "markdown",
      "metadata": {
        "id": "72HRusVW08Fw",
        "colab_type": "text"
      },
      "source": [
        "### Obteniendo datos con DataReader"
      ]
    },
    {
      "cell_type": "code",
      "metadata": {
        "id": "UFOm-uDZmWrl",
        "colab_type": "code",
        "colab": {}
      },
      "source": [
        "YPF = data.DataReader(\"YPF\", start='2020-01-01', end='2020-01-31', data_source='yahoo')\n"
      ],
      "execution_count": 0,
      "outputs": []
    },
    {
      "cell_type": "markdown",
      "metadata": {
        "id": "UQM4MemdeRK9",
        "colab_type": "text"
      },
      "source": [
        "Se activa datareader para acceder a los datos de la cotización de las acciones de YPF para el mes de enero del 2020, y la fuente de datos a la que se accede para extraer los datos es yahoo."
      ]
    },
    {
      "cell_type": "markdown",
      "metadata": {
        "id": "gHCsU_It1FJV",
        "colab_type": "text"
      },
      "source": [
        "### Creando el DataFrame y realizando limpieza y transformación de datos"
      ]
    },
    {
      "cell_type": "code",
      "metadata": {
        "id": "Jz1Zf843gQ08",
        "colab_type": "code",
        "colab": {}
      },
      "source": [
        "ypf = pd.DataFrame(YPF)"
      ],
      "execution_count": 0,
      "outputs": []
    },
    {
      "cell_type": "markdown",
      "metadata": {
        "id": "jgHj5e_RgSIZ",
        "colab_type": "text"
      },
      "source": [
        "A los datos guardados en la variable YPF, se les da forma de tabla y se los guarda en otra variable denominada ypf. El comando utilizado es pd.Dataframe(), que es de pandas."
      ]
    },
    {
      "cell_type": "code",
      "metadata": {
        "id": "OBeTnvZbWrOr",
        "colab_type": "code",
        "outputId": "d0009cdf-431f-49aa-fa83-a1eb32134f32",
        "colab": {
          "base_uri": "https://localhost:8080/",
          "height": 235
        }
      },
      "source": [
        "ypf.head()"
      ],
      "execution_count": 4,
      "outputs": [
        {
          "output_type": "execute_result",
          "data": {
            "text/html": [
              "<div>\n",
              "<style scoped>\n",
              "    .dataframe tbody tr th:only-of-type {\n",
              "        vertical-align: middle;\n",
              "    }\n",
              "\n",
              "    .dataframe tbody tr th {\n",
              "        vertical-align: top;\n",
              "    }\n",
              "\n",
              "    .dataframe thead th {\n",
              "        text-align: right;\n",
              "    }\n",
              "</style>\n",
              "<table border=\"1\" class=\"dataframe\">\n",
              "  <thead>\n",
              "    <tr style=\"text-align: right;\">\n",
              "      <th></th>\n",
              "      <th>High</th>\n",
              "      <th>Low</th>\n",
              "      <th>Open</th>\n",
              "      <th>Close</th>\n",
              "      <th>Volume</th>\n",
              "      <th>Adj Close</th>\n",
              "    </tr>\n",
              "    <tr>\n",
              "      <th>Date</th>\n",
              "      <th></th>\n",
              "      <th></th>\n",
              "      <th></th>\n",
              "      <th></th>\n",
              "      <th></th>\n",
              "      <th></th>\n",
              "    </tr>\n",
              "  </thead>\n",
              "  <tbody>\n",
              "    <tr>\n",
              "      <th>2020-01-02</th>\n",
              "      <td>11.53</td>\n",
              "      <td>11.11</td>\n",
              "      <td>11.51</td>\n",
              "      <td>11.26</td>\n",
              "      <td>2877600</td>\n",
              "      <td>11.26</td>\n",
              "    </tr>\n",
              "    <tr>\n",
              "      <th>2020-01-03</th>\n",
              "      <td>11.49</td>\n",
              "      <td>10.86</td>\n",
              "      <td>11.24</td>\n",
              "      <td>11.16</td>\n",
              "      <td>2751900</td>\n",
              "      <td>11.16</td>\n",
              "    </tr>\n",
              "    <tr>\n",
              "      <th>2020-01-06</th>\n",
              "      <td>11.19</td>\n",
              "      <td>10.90</td>\n",
              "      <td>11.07</td>\n",
              "      <td>11.14</td>\n",
              "      <td>1924200</td>\n",
              "      <td>11.14</td>\n",
              "    </tr>\n",
              "    <tr>\n",
              "      <th>2020-01-07</th>\n",
              "      <td>11.18</td>\n",
              "      <td>10.62</td>\n",
              "      <td>11.18</td>\n",
              "      <td>10.91</td>\n",
              "      <td>1530700</td>\n",
              "      <td>10.91</td>\n",
              "    </tr>\n",
              "    <tr>\n",
              "      <th>2020-01-08</th>\n",
              "      <td>10.99</td>\n",
              "      <td>10.55</td>\n",
              "      <td>10.86</td>\n",
              "      <td>10.98</td>\n",
              "      <td>2081000</td>\n",
              "      <td>10.98</td>\n",
              "    </tr>\n",
              "  </tbody>\n",
              "</table>\n",
              "</div>"
            ],
            "text/plain": [
              "             High    Low   Open  Close   Volume  Adj Close\n",
              "Date                                                      \n",
              "2020-01-02  11.53  11.11  11.51  11.26  2877600      11.26\n",
              "2020-01-03  11.49  10.86  11.24  11.16  2751900      11.16\n",
              "2020-01-06  11.19  10.90  11.07  11.14  1924200      11.14\n",
              "2020-01-07  11.18  10.62  11.18  10.91  1530700      10.91\n",
              "2020-01-08  10.99  10.55  10.86  10.98  2081000      10.98"
            ]
          },
          "metadata": {
            "tags": []
          },
          "execution_count": 4
        }
      ]
    },
    {
      "cell_type": "markdown",
      "metadata": {
        "id": "PpyWja8NhAZM",
        "colab_type": "text"
      },
      "source": [
        "Para visualizar los primeros cinco registros de la tabla y todas las variables (columnas), se utiliza head(). La sintaxis sería ypf.head() para que muestre los datos contenidos en la tabla generada en ypf. Observar que las variables son las siguientes:\n",
        "+ High: representa el valor más alto de cotización para esa fecha.\n",
        "+ Low: representa el valor más bajo de cotización para esa fecha.\n",
        "+ Open: representa el valor de apertura para esa fecha.\n",
        "+ Close: representa el valor de cierre para esa fecha.\n"
      ]
    },
    {
      "cell_type": "code",
      "metadata": {
        "id": "pz4V3b9umZTX",
        "colab_type": "code",
        "outputId": "d5c82b45-7e67-4237-c6e0-83c2395d571e",
        "colab": {
          "base_uri": "https://localhost:8080/",
          "height": 34
        }
      },
      "source": [
        "ypf.shape"
      ],
      "execution_count": 5,
      "outputs": [
        {
          "output_type": "execute_result",
          "data": {
            "text/plain": [
              "(21, 6)"
            ]
          },
          "metadata": {
            "tags": []
          },
          "execution_count": 5
        }
      ]
    },
    {
      "cell_type": "markdown",
      "metadata": {
        "id": "frK2RiOyh3GT",
        "colab_type": "text"
      },
      "source": [
        "Para saber cuantas observaciones tiene el conjunto de datos se utiliza el comando shape, y el resultado indica, en primer lugar 21 observaciones y seis variables (columnas). A primera vista pareciera que no estarían las cotizaciones de los días sábados y domingos. Con unos simples comandos se puede constatar tal apreciación."
      ]
    },
    {
      "cell_type": "code",
      "metadata": {
        "id": "iP2_nMr9lgI6",
        "colab_type": "code",
        "colab": {}
      },
      "source": [
        "Date = ypf.index.values"
      ],
      "execution_count": 0,
      "outputs": []
    },
    {
      "cell_type": "markdown",
      "metadata": {
        "id": "bGcY28s_nM_W",
        "colab_type": "text"
      },
      "source": [
        "Se genera la variable Date (Fecha), con los valores consignados como nombre de fila."
      ]
    },
    {
      "cell_type": "code",
      "metadata": {
        "id": "_iCP3gQKl1Gt",
        "colab_type": "code",
        "colab": {}
      },
      "source": [
        "ypf.insert(0,column='Date',value=Date)"
      ],
      "execution_count": 0,
      "outputs": []
    },
    {
      "cell_type": "markdown",
      "metadata": {
        "id": "5BJo0gzFnVNO",
        "colab_type": "text"
      },
      "source": [
        "Luego se inserta esos valores como primera columna, el valor de los datos es la variable generada denominada Date (Fecha)."
      ]
    },
    {
      "cell_type": "code",
      "metadata": {
        "id": "oVSOWlaunB9d",
        "colab_type": "code",
        "outputId": "bfca700c-0659-4f01-9acf-6c87b591f3b1",
        "colab": {
          "base_uri": "https://localhost:8080/",
          "height": 408
        }
      },
      "source": [
        "print(ypf)"
      ],
      "execution_count": 8,
      "outputs": [
        {
          "output_type": "stream",
          "text": [
            "                 Date   High    Low   Open  Close   Volume  Adj Close\n",
            "Date                                                                 \n",
            "2020-01-02 2020-01-02  11.53  11.11  11.51  11.26  2877600      11.26\n",
            "2020-01-03 2020-01-03  11.49  10.86  11.24  11.16  2751900      11.16\n",
            "2020-01-06 2020-01-06  11.19  10.90  11.07  11.14  1924200      11.14\n",
            "2020-01-07 2020-01-07  11.18  10.62  11.18  10.91  1530700      10.91\n",
            "2020-01-08 2020-01-08  10.99  10.55  10.86  10.98  2081000      10.98\n",
            "2020-01-09 2020-01-09  11.02  10.77  10.94  10.99  1503800      10.99\n",
            "2020-01-10 2020-01-10  10.98  10.65  10.97  10.66  1574200      10.66\n",
            "2020-01-13 2020-01-13  10.77  10.41  10.65  10.65  1309100      10.65\n",
            "2020-01-14 2020-01-14  10.67  10.41  10.56  10.64  1220800      10.64\n",
            "2020-01-15 2020-01-15  10.56  10.22  10.53  10.38  1266900      10.38\n",
            "2020-01-16 2020-01-16  10.62  10.35  10.50  10.35  1564600      10.35\n",
            "2020-01-17 2020-01-17  10.47  10.24  10.40  10.32  1749500      10.32\n",
            "2020-01-21 2020-01-21  10.32   9.82  10.26   9.82  1955200       9.82\n",
            "2020-01-22 2020-01-22  10.14   9.81   9.85   9.95  1896800       9.95\n",
            "2020-01-23 2020-01-23   9.96   9.69   9.92   9.76  1888100       9.76\n",
            "2020-01-24 2020-01-24   9.76   9.51   9.70   9.66  1066200       9.66\n",
            "2020-01-27 2020-01-27   9.45   9.26   9.44   9.37  1742200       9.37\n",
            "2020-01-28 2020-01-28   9.55   9.31   9.53   9.42  1086200       9.42\n",
            "2020-01-29 2020-01-29   9.71   9.45   9.48   9.58  2591200       9.58\n",
            "2020-01-30 2020-01-30   9.68   9.44   9.52   9.61  1215200       9.61\n",
            "2020-01-31 2020-01-31   9.50   9.16   9.48   9.39  1200400       9.39\n"
          ],
          "name": "stdout"
        }
      ]
    },
    {
      "cell_type": "markdown",
      "metadata": {
        "id": "nCETTJe2njP4",
        "colab_type": "text"
      },
      "source": [
        "Para visualizar la tabla con la columna generada se utiliza print. Pero todavía no vemos con claridad si los días sábados y domingos es la razón por la cual tenemos en el conjunto de datos, 21 observaciones. Por lo tanto vamos a generar la variable Day (Día)."
      ]
    },
    {
      "cell_type": "code",
      "metadata": {
        "id": "re2is-7jzmXl",
        "colab_type": "code",
        "colab": {}
      },
      "source": [
        "ypf.reset_index(drop=True, inplace=True)"
      ],
      "execution_count": 0,
      "outputs": []
    },
    {
      "cell_type": "markdown",
      "metadata": {
        "id": "O2BNGSj8z5DI",
        "colab_type": "text"
      },
      "source": [
        "Ahora eliminamos los valores del index, que serían los nombres de las celdas"
      ]
    },
    {
      "cell_type": "code",
      "metadata": {
        "id": "lLApscgpzy91",
        "colab_type": "code",
        "outputId": "5499f9e1-34db-4738-9735-dc11ce7e8cb4",
        "colab": {
          "base_uri": "https://localhost:8080/",
          "height": 391
        }
      },
      "source": [
        "print(ypf)"
      ],
      "execution_count": 10,
      "outputs": [
        {
          "output_type": "stream",
          "text": [
            "         Date   High    Low   Open  Close   Volume  Adj Close\n",
            "0  2020-01-02  11.53  11.11  11.51  11.26  2877600      11.26\n",
            "1  2020-01-03  11.49  10.86  11.24  11.16  2751900      11.16\n",
            "2  2020-01-06  11.19  10.90  11.07  11.14  1924200      11.14\n",
            "3  2020-01-07  11.18  10.62  11.18  10.91  1530700      10.91\n",
            "4  2020-01-08  10.99  10.55  10.86  10.98  2081000      10.98\n",
            "5  2020-01-09  11.02  10.77  10.94  10.99  1503800      10.99\n",
            "6  2020-01-10  10.98  10.65  10.97  10.66  1574200      10.66\n",
            "7  2020-01-13  10.77  10.41  10.65  10.65  1309100      10.65\n",
            "8  2020-01-14  10.67  10.41  10.56  10.64  1220800      10.64\n",
            "9  2020-01-15  10.56  10.22  10.53  10.38  1266900      10.38\n",
            "10 2020-01-16  10.62  10.35  10.50  10.35  1564600      10.35\n",
            "11 2020-01-17  10.47  10.24  10.40  10.32  1749500      10.32\n",
            "12 2020-01-21  10.32   9.82  10.26   9.82  1955200       9.82\n",
            "13 2020-01-22  10.14   9.81   9.85   9.95  1896800       9.95\n",
            "14 2020-01-23   9.96   9.69   9.92   9.76  1888100       9.76\n",
            "15 2020-01-24   9.76   9.51   9.70   9.66  1066200       9.66\n",
            "16 2020-01-27   9.45   9.26   9.44   9.37  1742200       9.37\n",
            "17 2020-01-28   9.55   9.31   9.53   9.42  1086200       9.42\n",
            "18 2020-01-29   9.71   9.45   9.48   9.58  2591200       9.58\n",
            "19 2020-01-30   9.68   9.44   9.52   9.61  1215200       9.61\n",
            "20 2020-01-31   9.50   9.16   9.48   9.39  1200400       9.39\n"
          ],
          "name": "stdout"
        }
      ]
    },
    {
      "cell_type": "code",
      "metadata": {
        "id": "6t6f0OxsoGIg",
        "colab_type": "code",
        "colab": {}
      },
      "source": [
        "ypf['Day'] = pd.DatetimeIndex(ypf['Date']).day_name()"
      ],
      "execution_count": 0,
      "outputs": []
    },
    {
      "cell_type": "markdown",
      "metadata": {
        "id": "HecqBnEYovrI",
        "colab_type": "text"
      },
      "source": [
        "Vamos a crear la variable Day (Día) agregando al conjunto de datos con el comando pd.DateTimeIndex() el nombre del día."
      ]
    },
    {
      "cell_type": "code",
      "metadata": {
        "id": "yX0t3Xv6oNb4",
        "colab_type": "code",
        "outputId": "a6031450-496c-43ca-b7b6-146ab40039b2",
        "colab": {
          "base_uri": "https://localhost:8080/",
          "height": 391
        }
      },
      "source": [
        "print(ypf)"
      ],
      "execution_count": 12,
      "outputs": [
        {
          "output_type": "stream",
          "text": [
            "         Date   High    Low   Open  Close   Volume  Adj Close        Day\n",
            "0  2020-01-02  11.53  11.11  11.51  11.26  2877600      11.26   Thursday\n",
            "1  2020-01-03  11.49  10.86  11.24  11.16  2751900      11.16     Friday\n",
            "2  2020-01-06  11.19  10.90  11.07  11.14  1924200      11.14     Monday\n",
            "3  2020-01-07  11.18  10.62  11.18  10.91  1530700      10.91    Tuesday\n",
            "4  2020-01-08  10.99  10.55  10.86  10.98  2081000      10.98  Wednesday\n",
            "5  2020-01-09  11.02  10.77  10.94  10.99  1503800      10.99   Thursday\n",
            "6  2020-01-10  10.98  10.65  10.97  10.66  1574200      10.66     Friday\n",
            "7  2020-01-13  10.77  10.41  10.65  10.65  1309100      10.65     Monday\n",
            "8  2020-01-14  10.67  10.41  10.56  10.64  1220800      10.64    Tuesday\n",
            "9  2020-01-15  10.56  10.22  10.53  10.38  1266900      10.38  Wednesday\n",
            "10 2020-01-16  10.62  10.35  10.50  10.35  1564600      10.35   Thursday\n",
            "11 2020-01-17  10.47  10.24  10.40  10.32  1749500      10.32     Friday\n",
            "12 2020-01-21  10.32   9.82  10.26   9.82  1955200       9.82    Tuesday\n",
            "13 2020-01-22  10.14   9.81   9.85   9.95  1896800       9.95  Wednesday\n",
            "14 2020-01-23   9.96   9.69   9.92   9.76  1888100       9.76   Thursday\n",
            "15 2020-01-24   9.76   9.51   9.70   9.66  1066200       9.66     Friday\n",
            "16 2020-01-27   9.45   9.26   9.44   9.37  1742200       9.37     Monday\n",
            "17 2020-01-28   9.55   9.31   9.53   9.42  1086200       9.42    Tuesday\n",
            "18 2020-01-29   9.71   9.45   9.48   9.58  2591200       9.58  Wednesday\n",
            "19 2020-01-30   9.68   9.44   9.52   9.61  1215200       9.61   Thursday\n",
            "20 2020-01-31   9.50   9.16   9.48   9.39  1200400       9.39     Friday\n"
          ],
          "name": "stdout"
        }
      ]
    },
    {
      "cell_type": "markdown",
      "metadata": {
        "id": "CYg00H0todeT",
        "colab_type": "text"
      },
      "source": [
        "Notese que la tabla tiene 21 filas (observaciones) por 8 columnas (variables) ya que se agregaron dos variables al conjunto de datos inicial, la variable Date y la variable Day, y nuestra apreciación era la correcta, no se encuentran los días sábados y domingos.\n",
        "Ahora bien, para nuestros cálculos posteriores no necesitamos las columnas con las variables Volume y Adj Close, por lo que se podrían eliminar."
      ]
    },
    {
      "cell_type": "code",
      "metadata": {
        "id": "TcaJE9y406gw",
        "colab_type": "code",
        "colab": {}
      },
      "source": [
        "ypf = ypf.drop(columns=['Volume','Adj Close'])"
      ],
      "execution_count": 0,
      "outputs": []
    },
    {
      "cell_type": "markdown",
      "metadata": {
        "id": "1hTL9Quz2OHv",
        "colab_type": "text"
      },
      "source": [
        "Entonces para eliminar las columnas Volume y Adj Close, utilizamos el comando drop"
      ]
    },
    {
      "cell_type": "code",
      "metadata": {
        "id": "3DNrhA-O4yUw",
        "colab_type": "code",
        "colab": {}
      },
      "source": [
        "YPF = pd.DataFrame(ypf)"
      ],
      "execution_count": 0,
      "outputs": []
    },
    {
      "cell_type": "code",
      "metadata": {
        "id": "oY6Tcso-2wkE",
        "colab_type": "code",
        "outputId": "4b28ab67-2bd3-471c-a881-c25c1f758376",
        "colab": {
          "base_uri": "https://localhost:8080/",
          "height": 391
        }
      },
      "source": [
        "print(YPF)"
      ],
      "execution_count": 15,
      "outputs": [
        {
          "output_type": "stream",
          "text": [
            "         Date   High    Low   Open  Close        Day\n",
            "0  2020-01-02  11.53  11.11  11.51  11.26   Thursday\n",
            "1  2020-01-03  11.49  10.86  11.24  11.16     Friday\n",
            "2  2020-01-06  11.19  10.90  11.07  11.14     Monday\n",
            "3  2020-01-07  11.18  10.62  11.18  10.91    Tuesday\n",
            "4  2020-01-08  10.99  10.55  10.86  10.98  Wednesday\n",
            "5  2020-01-09  11.02  10.77  10.94  10.99   Thursday\n",
            "6  2020-01-10  10.98  10.65  10.97  10.66     Friday\n",
            "7  2020-01-13  10.77  10.41  10.65  10.65     Monday\n",
            "8  2020-01-14  10.67  10.41  10.56  10.64    Tuesday\n",
            "9  2020-01-15  10.56  10.22  10.53  10.38  Wednesday\n",
            "10 2020-01-16  10.62  10.35  10.50  10.35   Thursday\n",
            "11 2020-01-17  10.47  10.24  10.40  10.32     Friday\n",
            "12 2020-01-21  10.32   9.82  10.26   9.82    Tuesday\n",
            "13 2020-01-22  10.14   9.81   9.85   9.95  Wednesday\n",
            "14 2020-01-23   9.96   9.69   9.92   9.76   Thursday\n",
            "15 2020-01-24   9.76   9.51   9.70   9.66     Friday\n",
            "16 2020-01-27   9.45   9.26   9.44   9.37     Monday\n",
            "17 2020-01-28   9.55   9.31   9.53   9.42    Tuesday\n",
            "18 2020-01-29   9.71   9.45   9.48   9.58  Wednesday\n",
            "19 2020-01-30   9.68   9.44   9.52   9.61   Thursday\n",
            "20 2020-01-31   9.50   9.16   9.48   9.39     Friday\n"
          ],
          "name": "stdout"
        }
      ]
    },
    {
      "cell_type": "markdown",
      "metadata": {
        "id": "G8JOCapHmjFh",
        "colab_type": "text"
      },
      "source": [
        "## **Estadística Descriptiva**"
      ]
    },
    {
      "cell_type": "markdown",
      "metadata": {
        "id": "XxH273Cg1vaB",
        "colab_type": "text"
      },
      "source": [
        "### Consultando tamaño del dataset"
      ]
    },
    {
      "cell_type": "code",
      "metadata": {
        "id": "5sEv1LRFqdog",
        "colab_type": "code",
        "outputId": "2eca1fb0-d928-4ba4-b462-4faa31678511",
        "colab": {
          "base_uri": "https://localhost:8080/",
          "height": 34
        }
      },
      "source": [
        "YPF.shape"
      ],
      "execution_count": 16,
      "outputs": [
        {
          "output_type": "execute_result",
          "data": {
            "text/plain": [
              "(21, 6)"
            ]
          },
          "metadata": {
            "tags": []
          },
          "execution_count": 16
        }
      ]
    },
    {
      "cell_type": "markdown",
      "metadata": {
        "id": "F-AMZIwKrABd",
        "colab_type": "text"
      },
      "source": [
        "El conjunto de datos tiene 21 observaciones (cotizaciones) y 8 variables, de las cuales dos no son numericas, como lo es Date (fecha) y Day (Día)."
      ]
    },
    {
      "cell_type": "markdown",
      "metadata": {
        "id": "rzYhMxPN11aa",
        "colab_type": "text"
      },
      "source": [
        "### Utilizando algunos comandos para Estadística Descriptiva"
      ]
    },
    {
      "cell_type": "code",
      "metadata": {
        "id": "O3p4v8iZmm9M",
        "colab_type": "code",
        "outputId": "17f03694-76b1-48ce-c865-f1218bc8f214",
        "colab": {
          "base_uri": "https://localhost:8080/",
          "height": 297
        }
      },
      "source": [
        "YPF.describe()"
      ],
      "execution_count": 17,
      "outputs": [
        {
          "output_type": "execute_result",
          "data": {
            "text/html": [
              "<div>\n",
              "<style scoped>\n",
              "    .dataframe tbody tr th:only-of-type {\n",
              "        vertical-align: middle;\n",
              "    }\n",
              "\n",
              "    .dataframe tbody tr th {\n",
              "        vertical-align: top;\n",
              "    }\n",
              "\n",
              "    .dataframe thead th {\n",
              "        text-align: right;\n",
              "    }\n",
              "</style>\n",
              "<table border=\"1\" class=\"dataframe\">\n",
              "  <thead>\n",
              "    <tr style=\"text-align: right;\">\n",
              "      <th></th>\n",
              "      <th>High</th>\n",
              "      <th>Low</th>\n",
              "      <th>Open</th>\n",
              "      <th>Close</th>\n",
              "    </tr>\n",
              "  </thead>\n",
              "  <tbody>\n",
              "    <tr>\n",
              "      <th>count</th>\n",
              "      <td>21.000000</td>\n",
              "      <td>21.000000</td>\n",
              "      <td>21.000000</td>\n",
              "      <td>21.000000</td>\n",
              "    </tr>\n",
              "    <tr>\n",
              "      <th>mean</th>\n",
              "      <td>10.454286</td>\n",
              "      <td>10.120952</td>\n",
              "      <td>10.361428</td>\n",
              "      <td>10.285714</td>\n",
              "    </tr>\n",
              "    <tr>\n",
              "      <th>std</th>\n",
              "      <td>0.674534</td>\n",
              "      <td>0.612029</td>\n",
              "      <td>0.674354</td>\n",
              "      <td>0.654451</td>\n",
              "    </tr>\n",
              "    <tr>\n",
              "      <th>min</th>\n",
              "      <td>9.450000</td>\n",
              "      <td>9.160000</td>\n",
              "      <td>9.440000</td>\n",
              "      <td>9.370000</td>\n",
              "    </tr>\n",
              "    <tr>\n",
              "      <th>25%</th>\n",
              "      <td>9.760000</td>\n",
              "      <td>9.510000</td>\n",
              "      <td>9.700000</td>\n",
              "      <td>9.660000</td>\n",
              "    </tr>\n",
              "    <tr>\n",
              "      <th>50%</th>\n",
              "      <td>10.560000</td>\n",
              "      <td>10.240000</td>\n",
              "      <td>10.500000</td>\n",
              "      <td>10.350000</td>\n",
              "    </tr>\n",
              "    <tr>\n",
              "      <th>75%</th>\n",
              "      <td>10.990000</td>\n",
              "      <td>10.620000</td>\n",
              "      <td>10.940000</td>\n",
              "      <td>10.910000</td>\n",
              "    </tr>\n",
              "    <tr>\n",
              "      <th>max</th>\n",
              "      <td>11.530000</td>\n",
              "      <td>11.110000</td>\n",
              "      <td>11.510000</td>\n",
              "      <td>11.260000</td>\n",
              "    </tr>\n",
              "  </tbody>\n",
              "</table>\n",
              "</div>"
            ],
            "text/plain": [
              "            High        Low       Open      Close\n",
              "count  21.000000  21.000000  21.000000  21.000000\n",
              "mean   10.454286  10.120952  10.361428  10.285714\n",
              "std     0.674534   0.612029   0.674354   0.654451\n",
              "min     9.450000   9.160000   9.440000   9.370000\n",
              "25%     9.760000   9.510000   9.700000   9.660000\n",
              "50%    10.560000  10.240000  10.500000  10.350000\n",
              "75%    10.990000  10.620000  10.940000  10.910000\n",
              "max    11.530000  11.110000  11.510000  11.260000"
            ]
          },
          "metadata": {
            "tags": []
          },
          "execution_count": 17
        }
      ]
    },
    {
      "cell_type": "markdown",
      "metadata": {
        "id": "JkBJl-nYsJiH",
        "colab_type": "text"
      },
      "source": [
        "Para visualizar algunos valores estadísticos de todos las variables del conjunto de datos de ypf, se utiliza el comando describe(), y también se puede realizar lo mismo para una de las variables del conjunto de datos. Los valores que se desplegan son:\n",
        "+ count: cuenta de las observaciones del conjunto de datos.\n",
        "+ mean: representa la media de los valores de las observaciones.\n",
        "+ std: es el valor del error estándar.\n",
        "+ min: es el mínimo valor.\n",
        "+ 25%: es el valor del primer cuartíl también definido Q1.\n",
        "+ 50%: es el valor del segundo cuartíl también definido Q2, que es la mediana.\n",
        "+ 75%: es el valor del tercer cuartíl también definido Q3.\n",
        "+ max: es el máximo valor."
      ]
    },
    {
      "cell_type": "code",
      "metadata": {
        "id": "j5JE-EEVtgsh",
        "colab_type": "code",
        "outputId": "ad87c0d9-0e03-43c1-ee73-27c6fad0ec1b",
        "colab": {
          "base_uri": "https://localhost:8080/",
          "height": 170
        }
      },
      "source": [
        "YPF.describe()['Close']"
      ],
      "execution_count": 18,
      "outputs": [
        {
          "output_type": "execute_result",
          "data": {
            "text/plain": [
              "count    21.000000\n",
              "mean     10.285714\n",
              "std       0.654451\n",
              "min       9.370000\n",
              "25%       9.660000\n",
              "50%      10.350000\n",
              "75%      10.910000\n",
              "max      11.260000\n",
              "Name: Close, dtype: float64"
            ]
          },
          "metadata": {
            "tags": []
          },
          "execution_count": 18
        }
      ]
    },
    {
      "cell_type": "markdown",
      "metadata": {
        "id": "uQ8TdMhkuCro",
        "colab_type": "text"
      },
      "source": [
        "En este caso se visualiza la variable Close (Cierre)"
      ]
    },
    {
      "cell_type": "code",
      "metadata": {
        "id": "yxv_khj6m1SQ",
        "colab_type": "code",
        "outputId": "2f279ece-f7e5-45ff-e749-435592e8d744",
        "colab": {
          "base_uri": "https://localhost:8080/",
          "height": 34
        }
      },
      "source": [
        "YPF['Close'].max()"
      ],
      "execution_count": 19,
      "outputs": [
        {
          "output_type": "execute_result",
          "data": {
            "text/plain": [
              "11.260000228881836"
            ]
          },
          "metadata": {
            "tags": []
          },
          "execution_count": 19
        }
      ]
    },
    {
      "cell_type": "markdown",
      "metadata": {
        "id": "4DjpZrlfw2nJ",
        "colab_type": "text"
      },
      "source": [
        "Calculando el máximo valor de la variable Close (Cierre)"
      ]
    },
    {
      "cell_type": "code",
      "metadata": {
        "id": "KiiQ6XRMnD1O",
        "colab_type": "code",
        "outputId": "8115aa85-10c5-48be-ee9f-65d0d314be00",
        "colab": {
          "base_uri": "https://localhost:8080/",
          "height": 34
        }
      },
      "source": [
        "YPF['Close'].min()"
      ],
      "execution_count": 20,
      "outputs": [
        {
          "output_type": "execute_result",
          "data": {
            "text/plain": [
              "9.369999885559082"
            ]
          },
          "metadata": {
            "tags": []
          },
          "execution_count": 20
        }
      ]
    },
    {
      "cell_type": "markdown",
      "metadata": {
        "id": "D29-3saQxRi8",
        "colab_type": "text"
      },
      "source": [
        "Calculando el mínimo valor de la variable Close (Cierre)\n",
        "\n"
      ]
    },
    {
      "cell_type": "code",
      "metadata": {
        "id": "G0K-0hWgnRQ3",
        "colab_type": "code",
        "outputId": "55429bb6-9318-4ba3-ddc5-dcaca309b918",
        "colab": {
          "base_uri": "https://localhost:8080/",
          "height": 34
        }
      },
      "source": [
        "rango = YPF['Close'].max() - YPF['Close'].min()\n",
        "rango"
      ],
      "execution_count": 21,
      "outputs": [
        {
          "output_type": "execute_result",
          "data": {
            "text/plain": [
              "1.890000343322754"
            ]
          },
          "metadata": {
            "tags": []
          },
          "execution_count": 21
        }
      ]
    },
    {
      "cell_type": "markdown",
      "metadata": {
        "id": "LW2We-ugxZga",
        "colab_type": "text"
      },
      "source": [
        "Calculando el rango que es una medida de dispersión, la cual indica cómo los datos individuales pueden diferir de la media, por tal motivo se resta el máximo valor de la variable Close (Cierre) al mínimo valor de la misma variable."
      ]
    },
    {
      "cell_type": "code",
      "metadata": {
        "id": "cBjfLa4Anegs",
        "colab_type": "code",
        "outputId": "5d25e4c3-3c53-4da3-a3d8-97b9f4c50c60",
        "colab": {
          "base_uri": "https://localhost:8080/",
          "height": 34
        }
      },
      "source": [
        "YPF['Close'].mean()"
      ],
      "execution_count": 22,
      "outputs": [
        {
          "output_type": "execute_result",
          "data": {
            "text/plain": [
              "10.285714240301223"
            ]
          },
          "metadata": {
            "tags": []
          },
          "execution_count": 22
        }
      ]
    },
    {
      "cell_type": "markdown",
      "metadata": {
        "id": "hSlQkN9ayXYP",
        "colab_type": "text"
      },
      "source": [
        "Calculando la media valor de la variable Close (Cierre).\n"
      ]
    },
    {
      "cell_type": "code",
      "metadata": {
        "id": "yoPTFl9KnpuM",
        "colab_type": "code",
        "outputId": "34a78514-a0fb-4f10-c68f-5047526b5673",
        "colab": {
          "base_uri": "https://localhost:8080/",
          "height": 34
        }
      },
      "source": [
        "YPF['Close'].median()"
      ],
      "execution_count": 23,
      "outputs": [
        {
          "output_type": "execute_result",
          "data": {
            "text/plain": [
              "10.350000381469727"
            ]
          },
          "metadata": {
            "tags": []
          },
          "execution_count": 23
        }
      ]
    },
    {
      "cell_type": "markdown",
      "metadata": {
        "id": "6dIe6dpNylrG",
        "colab_type": "text"
      },
      "source": [
        "Calculando la mediana valor de la variable Close (Cierre), es decir Q2.\n"
      ]
    },
    {
      "cell_type": "markdown",
      "metadata": {
        "id": "vrE2Wkz-y9WU",
        "colab_type": "text"
      },
      "source": [
        "## **Algunos Gráficos Básicos**"
      ]
    },
    {
      "cell_type": "markdown",
      "metadata": {
        "id": "09uwDlxb2Luf",
        "colab_type": "text"
      },
      "source": [
        "### Dataset a graficar"
      ]
    },
    {
      "cell_type": "code",
      "metadata": {
        "id": "KWxt07ti6B9g",
        "colab_type": "code",
        "outputId": "b7ce1d34-9152-4151-a01a-c6e1d09699b2",
        "colab": {
          "base_uri": "https://localhost:8080/",
          "height": 391
        }
      },
      "source": [
        "print(YPF)"
      ],
      "execution_count": 24,
      "outputs": [
        {
          "output_type": "stream",
          "text": [
            "         Date   High    Low   Open  Close        Day\n",
            "0  2020-01-02  11.53  11.11  11.51  11.26   Thursday\n",
            "1  2020-01-03  11.49  10.86  11.24  11.16     Friday\n",
            "2  2020-01-06  11.19  10.90  11.07  11.14     Monday\n",
            "3  2020-01-07  11.18  10.62  11.18  10.91    Tuesday\n",
            "4  2020-01-08  10.99  10.55  10.86  10.98  Wednesday\n",
            "5  2020-01-09  11.02  10.77  10.94  10.99   Thursday\n",
            "6  2020-01-10  10.98  10.65  10.97  10.66     Friday\n",
            "7  2020-01-13  10.77  10.41  10.65  10.65     Monday\n",
            "8  2020-01-14  10.67  10.41  10.56  10.64    Tuesday\n",
            "9  2020-01-15  10.56  10.22  10.53  10.38  Wednesday\n",
            "10 2020-01-16  10.62  10.35  10.50  10.35   Thursday\n",
            "11 2020-01-17  10.47  10.24  10.40  10.32     Friday\n",
            "12 2020-01-21  10.32   9.82  10.26   9.82    Tuesday\n",
            "13 2020-01-22  10.14   9.81   9.85   9.95  Wednesday\n",
            "14 2020-01-23   9.96   9.69   9.92   9.76   Thursday\n",
            "15 2020-01-24   9.76   9.51   9.70   9.66     Friday\n",
            "16 2020-01-27   9.45   9.26   9.44   9.37     Monday\n",
            "17 2020-01-28   9.55   9.31   9.53   9.42    Tuesday\n",
            "18 2020-01-29   9.71   9.45   9.48   9.58  Wednesday\n",
            "19 2020-01-30   9.68   9.44   9.52   9.61   Thursday\n",
            "20 2020-01-31   9.50   9.16   9.48   9.39     Friday\n"
          ],
          "name": "stdout"
        }
      ]
    },
    {
      "cell_type": "markdown",
      "metadata": {
        "id": "McOb3QM22USK",
        "colab_type": "text"
      },
      "source": [
        "### Configurando para graficar, y verificando estilos de gráficos disponibles"
      ]
    },
    {
      "cell_type": "code",
      "metadata": {
        "id": "Q-kED6p3oA47",
        "colab_type": "code",
        "colab": {}
      },
      "source": [
        "import matplotlib as plot\n"
      ],
      "execution_count": 0,
      "outputs": []
    },
    {
      "cell_type": "code",
      "metadata": {
        "id": "AhocuwDY8g9R",
        "colab_type": "code",
        "outputId": "5af91610-f969-472b-e883-6910a5392286",
        "colab": {
          "base_uri": "https://localhost:8080/",
          "height": 54
        }
      },
      "source": [
        "print(plot.style.available)"
      ],
      "execution_count": 26,
      "outputs": [
        {
          "output_type": "stream",
          "text": [
            "['seaborn-ticks', 'classic', 'seaborn-deep', 'seaborn-white', 'seaborn-darkgrid', 'tableau-colorblind10', 'seaborn-talk', 'fivethirtyeight', 'fast', 'seaborn-muted', 'seaborn-bright', 'bmh', 'seaborn-notebook', 'ggplot', 'seaborn', 'seaborn-colorblind', 'seaborn-paper', 'seaborn-dark', 'Solarize_Light2', 'seaborn-pastel', 'seaborn-dark-palette', 'dark_background', 'seaborn-whitegrid', 'seaborn-poster', '_classic_test', 'grayscale']\n"
          ],
          "name": "stdout"
        }
      ]
    },
    {
      "cell_type": "markdown",
      "metadata": {
        "id": "72kVpk_T2fw3",
        "colab_type": "text"
      },
      "source": [
        "### Gráfico Lineal"
      ]
    },
    {
      "cell_type": "code",
      "metadata": {
        "id": "czM0yoaz5tDu",
        "colab_type": "code",
        "outputId": "5b3c513f-c145-4640-af5c-6386ab3aa948",
        "colab": {
          "base_uri": "https://localhost:8080/",
          "height": 400
        }
      },
      "source": [
        "plot.style.use('bmh')\n",
        "YPF.plot('Date',['Open','High','Low','Close'], kind='line', figsize=(11,6), color=['darkblue','green','red','purple'])"
      ],
      "execution_count": 28,
      "outputs": [
        {
          "output_type": "execute_result",
          "data": {
            "text/plain": [
              "<matplotlib.axes._subplots.AxesSubplot at 0x7fec6d8de358>"
            ]
          },
          "metadata": {
            "tags": []
          },
          "execution_count": 28
        },
        {
          "output_type": "display_data",
          "data": {
            "image/png": "[encoded data removed]",
            "text/plain": [
              "<Figure size 792x432 with 1 Axes>"
            ]
          },
          "metadata": {
            "tags": []
          }
        }
      ]
    },
    {
      "cell_type": "markdown",
      "metadata": {
        "id": "rkKNlWl42obY",
        "colab_type": "text"
      },
      "source": [
        "### Gráfico de Dispersión"
      ]
    },
    {
      "cell_type": "code",
      "metadata": {
        "id": "P71ZAGvqqII3",
        "colab_type": "code",
        "outputId": "f44d54e1-e8f2-435d-9752-6f840676b659",
        "colab": {
          "base_uri": "https://localhost:8080/",
          "height": 405
        }
      },
      "source": [
        "plot.style.use('bmh')\n",
        "YPF.plot('Close', 'Open', kind='scatter', figsize=(11,6), color='darkblue')"
      ],
      "execution_count": 0,
      "outputs": [
        {
          "output_type": "execute_result",
          "data": {
            "text/plain": [
              "<matplotlib.axes._subplots.AxesSubplot at 0x7f00c4a15828>"
            ]
          },
          "metadata": {
            "tags": []
          },
          "execution_count": 162
        },
        {
          "output_type": "display_data",
          "data": {
            "image/png": "[encoded data removed]",
            "text/plain": [
              "<Figure size 792x432 with 1 Axes>"
            ]
          },
          "metadata": {
            "tags": []
          }
        }
      ]
    },
    {
      "cell_type": "markdown",
      "metadata": {
        "id": "66Qf9nsg20U-",
        "colab_type": "text"
      },
      "source": [
        "### Gráfico Histograma"
      ]
    },
    {
      "cell_type": "code",
      "metadata": {
        "id": "PeAerQPFoMi7",
        "colab_type": "code",
        "outputId": "5a551e07-64fc-4cda-9509-2d48e35557f0",
        "colab": {
          "base_uri": "https://localhost:8080/",
          "height": 388
        }
      },
      "source": [
        "plot.style.use('bmh')\n",
        "YPF.plot('Date', ['Open','High','Low','Close'], kind='hist', figsize=(11,6), color=['darkblue','green','red','purple'])"
      ],
      "execution_count": 29,
      "outputs": [
        {
          "output_type": "execute_result",
          "data": {
            "text/plain": [
              "<matplotlib.axes._subplots.AxesSubplot at 0x7fec6d871e80>"
            ]
          },
          "metadata": {
            "tags": []
          },
          "execution_count": 29
        },
        {
          "output_type": "display_data",
          "data": {
            "image/png": "[encoded data removed]",
            "text/plain": [
              "<Figure size 792x432 with 1 Axes>"
            ]
          },
          "metadata": {
            "tags": []
          }
        }
      ]
    },
    {
      "cell_type": "markdown",
      "metadata": {
        "id": "p3R6LUn7253O",
        "colab_type": "text"
      },
      "source": [
        "### Gráfico de Caja"
      ]
    },
    {
      "cell_type": "code",
      "metadata": {
        "id": "Ol-6H6vq-7ya",
        "colab_type": "code",
        "outputId": "beee6569-c044-4a55-c72e-cccdb2e1508e",
        "colab": {
          "base_uri": "https://localhost:8080/",
          "height": 388
        }
      },
      "source": [
        "plot.style.use('bmh')\n",
        "YPF.plot('Date',['Open','High','Low','Close'], kind='box', figsize=(11,6), color='darkblue')"
      ],
      "execution_count": 34,
      "outputs": [
        {
          "output_type": "execute_result",
          "data": {
            "text/plain": [
              "<matplotlib.axes._subplots.AxesSubplot at 0x7fec6b638898>"
            ]
          },
          "metadata": {
            "tags": []
          },
          "execution_count": 34
        },
        {
          "output_type": "display_data",
          "data": {
            "image/png": "[encoded data removed]",
            "text/plain": [
              "<Figure size 792x432 with 1 Axes>"
            ]
          },
          "metadata": {
            "tags": []
          }
        }
      ]
    },
    {
      "cell_type": "markdown",
      "metadata": {
        "id": "UvduqSe73GrE",
        "colab_type": "text"
      },
      "source": [
        "### Gráfico KDE"
      ]
    },
    {
      "cell_type": "code",
      "metadata": {
        "id": "zmGf29rPwaMs",
        "colab_type": "code",
        "colab": {
          "base_uri": "https://localhost:8080/",
          "height": 388
        },
        "outputId": "ccfa7b4a-6993-4f10-d765-e6bd7c7bb1e3"
      },
      "source": [
        "plot.style.use('bmh')\n",
        "YPF.plot('Date',['Open','High','Low','Close'], kind='kde', figsize=(11,6), color=['darkblue','green','red','purple'])"
      ],
      "execution_count": 41,
      "outputs": [
        {
          "output_type": "execute_result",
          "data": {
            "text/plain": [
              "<matplotlib.axes._subplots.AxesSubplot at 0x7fec6b079a58>"
            ]
          },
          "metadata": {
            "tags": []
          },
          "execution_count": 41
        },
        {
          "output_type": "display_data",
          "data": {
            "image/png": "[encoded data removed]",
            "text/plain": [
              "<Figure size 792x432 with 1 Axes>"
            ]
          },
          "metadata": {
            "tags": []
          }
        }
      ]
    },
    {
      "cell_type": "markdown",
      "metadata": {
        "id": "BuSyGjn23Lh-",
        "colab_type": "text"
      },
      "source": [
        "### Gráfico de Áreas"
      ]
    },
    {
      "cell_type": "code",
      "metadata": {
        "id": "asjamBnEwyR5",
        "colab_type": "code",
        "colab": {
          "base_uri": "https://localhost:8080/",
          "height": 400
        },
        "outputId": "3ffc8751-01cf-4c59-bc66-121dcd8f46c3"
      },
      "source": [
        "plot.style.use('bmh')\n",
        "YPF.plot('Date',['Open','High','Low','Close'], kind='area', figsize=(11,6), color=['darkblue','green','red','purple'])"
      ],
      "execution_count": 42,
      "outputs": [
        {
          "output_type": "execute_result",
          "data": {
            "text/plain": [
              "<matplotlib.axes._subplots.AxesSubplot at 0x7fec617633c8>"
            ]
          },
          "metadata": {
            "tags": []
          },
          "execution_count": 42
        },
        {
          "output_type": "display_data",
          "data": {
            "image/png": "[encoded data removed]",
            "text/plain": [
              "<Figure size 792x432 with 1 Axes>"
            ]
          },
          "metadata": {
            "tags": []
          }
        }
      ]
    }
  ]
}