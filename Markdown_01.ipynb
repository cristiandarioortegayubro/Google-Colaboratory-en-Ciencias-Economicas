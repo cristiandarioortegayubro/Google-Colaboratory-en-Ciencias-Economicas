{
  "nbformat": 4,
  "nbformat_minor": 0,
  "metadata": {
    "colab": {
      "name": "Markdown 01.ipynb",
      "provenance": [],
      "authorship_tag": "ABX9TyOWkXMsKuG3Qdw1LMWCO98g",
      "include_colab_link": true
    },
    "kernelspec": {
      "name": "python3",
      "display_name": "Python 3"
    }
  },
  "cells": [
    {
      "cell_type": "markdown",
      "metadata": {
        "id": "view-in-github",
        "colab_type": "text"
      },
      "source": [
        "<a href=\"https://colab.research.google.com/github/cristiandarioortegayubro/Google-Colaboratory-en-Ciencias-Economicas/blob/master/Markdown_01.ipynb\" target=\"_parent\"><img src=\"https://colab.research.google.com/assets/colab-badge.svg\" alt=\"Open In Colab\"/></a>"
      ]
    },
    {
      "cell_type": "markdown",
      "metadata": {
        "id": "8mN7FDPHVjJO",
        "colab_type": "text"
      },
      "source": [
        "# Markdown\n"
      ]
    }
  ]
}