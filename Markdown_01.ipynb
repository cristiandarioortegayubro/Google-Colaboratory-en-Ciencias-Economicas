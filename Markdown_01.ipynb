{
  "nbformat": 4,
  "nbformat_minor": 0,
  "metadata": {
    "colab": {
      "name": "Markdown 01.ipynb",
      "provenance": [],
      "collapsed_sections": [
        "lmCYzb98BN4W"
      ],
      "authorship_tag": "ABX9TyO9Z9HUBw+evVkOQPuMD2wr",
      "include_colab_link": true
    },
    "kernelspec": {
      "name": "python3",
      "display_name": "Python 3"
    }
  },
  "cells": [
    {
      "cell_type": "markdown",
      "metadata": {
        "id": "view-in-github",
        "colab_type": "text"
      },
      "source": [
        "<a href=\"https://colab.research.google.com/github/cristiandarioortegayubro/Google-Colaboratory-en-Ciencias-Economicas/blob/master/Markdown_01.ipynb\" target=\"_parent\"><img src=\"https://colab.research.google.com/assets/colab-badge.svg\" alt=\"Open In Colab\"/></a>"
      ]
    },
    {
      "cell_type": "markdown",
      "metadata": {
        "id": "8mN7FDPHVjJO",
        "colab_type": "text"
      },
      "source": [
        "# **Markdown**\n"
      ]
    },
    {
      "cell_type": "markdown",
      "metadata": {
        "id": "lmCYzb98BN4W",
        "colab_type": "text"
      },
      "source": [
        "## **Formatos de Textos** "
      ]
    },
    {
      "cell_type": "markdown",
      "metadata": {
        "id": "YA4Cq3vsBWTW",
        "colab_type": "text"
      },
      "source": [
        "### **Títulos**\n",
        "Los títulos se definen agregando el símbolo # antes del texto, depende la cantidad de símbolos que se agreguen, será el tipo de título, así para el título 1 se agrega un símbolo ## Título 1, para el título 2, dos símbolos ## Título 2, y así sucesivamente, nótese que el título 5 y el título 6 tienen el mismo tamaño de letra.\n",
        "# Título 1\n",
        "## Título 2\n",
        "### Título 3\n",
        "#### Título 4\n",
        "##### Título 5\n",
        "###### Título 6"
      ]
    },
    {
      "cell_type": "markdown",
      "metadata": {
        "id": "wcifxEcGGRt4",
        "colab_type": "text"
      },
      "source": [
        "### **Formatos de Negrita y Cursiva**\n",
        "Los formatos de negrita para el texto se logran colocando antes de la palabra que se quiere en negrita dos veces el símbolo asterisco y donde se quiere que finalice otros dos asteriscos, es decir **dos veces**.\n",
        "\n",
        "En cambio para lograr la cursiva con *un solo símbolo asterisco al inicio y final de lo que se quiere con cursiva* se logra que la letra obtenga ese aspecto.\n",
        "\n",
        "**Para ver la codificación, se recomienda hacer doble clic sobre esta celda de texto.**\n",
        "\n",
        "Ahora bien, para lograr la negrita y la cursiva, entonces utilizaremos tres símbolos asteriscos ***como puede apreciarse***.\n"
      ]
    },
    {
      "cell_type": "markdown",
      "metadata": {
        "id": "cQG_qRmXLEVt",
        "colab_type": "text"
      },
      "source": [
        "### **Listas, Numeración y Listas Anidadas**\n",
        "Las listas se pueden crear con el símbolo +, - o el símbolo *\n",
        "+ Primero se pone el símbolo,\n",
        "+ Luego se escribe el texto, \n",
        "+ y se repite la operación tanto como se necesite.\n",
        "\n",
        "Para la numeración, en vez de usar un símbolo, se puede colocar el número seguido de un punto, es decir 1. cada vez que se inicie una oración perteneciente a una numeración. Se puede colocar todas las veces 1., y cuando se ejecute la celda, se numerará como corresponde.\n",
        "1. Coloco el 1. y empiezo a escribir,\n",
        "1. Vuelvo a colocar 1., pero en la lista se va a mostrar el 2.,\n",
        "1. Repito la operación tantas veces como necesite numerar.\n",
        "\n",
        "**Para ver la codificación, se recomienda hacer doble clic sobre esta celda de texto.**\n",
        "\n",
        "Para generar una lista anidada, se debe dar cuatro espacios para incrementar el nivel, es decir\n",
        "- Empiezo en el nivel uno,\n",
        "    - Realizo cuatro espacios, para el nivel dos,\n",
        "    - Y continuo las veces necesarias, \n",
        "    - Si quiero incrementar el nivel, cuatro espacios más,\n",
        "        - y queda de esta forma,\n",
        "        - nótese que automáticamente se cambia el símbolo de la lista.\n",
        "\n",
        "Lo mismo resulta en la numeración.\n",
        "1. Comienzo el nivel uno con 1.,\n",
        "    1. Doy cuatro espacios para el nivel dos,\n",
        "    1. La numeración se reinicia en el nivel dos,\n",
        "    1. Concluido el nivel dos, podría subir de nivel o volver al nivel 1,\n",
        "1. Si vuelvo al nivel dos, debería continuar la numeración.\n",
        "\n",
        "Y también puede combinarse, como el siguiente ejemplo:\n",
        "1. Comienzo la numeración, y subo de nivel con una lista,\n",
        "    - Empiezo el nivel 2 con una lista,\n",
        "    - Continúo las veces necesarias,\n",
        "    - Nótese que el símbolo corresponde al nivel 2, \n",
        "1. Vuelvo al nivel uno numerado.\n"
      ]
    },
    {
      "cell_type": "markdown",
      "metadata": {
        "id": "KVwC-oIeMPnX",
        "colab_type": "text"
      },
      "source": [
        "## **Expresiones matemáticas** "
      ]
    },
    {
      "cell_type": "markdown",
      "metadata": {
        "id": "a3_q_QnFQa_0",
        "colab_type": "text"
      },
      "source": [
        "Las expresiones matemáticas son muy utilizadas en el campo de las Ciencias Económicas, para empezar a escribir una de ellas, se debe colocar antes del código, el símbolo $. Este símbolo se coloca una vez al inicio y al final de la expresión matemática, si la misma es en una línea.\n",
        "\n",
        "Pero se colocará dos veces, cuando la expresión matemática utiliza dos líneas, como lo hace en una fracción. \n",
        "\n",
        "**Se puede visualizar los ejemplos, haciendo doble clic en esta celda de texto.**\n",
        "\n",
        "$$y_t = \\frac{\\sum_{i=0}^t w_i x_{t-i}}{\\sum_{i=0}^t w_i}$$\n",
        "\n",
        "Los comandos que se utilizan para una expresión matemática, corresponden a la sintaxis de LaTeX. \n",
        "\n",
        "Otros ejemplos:\n",
        "\n",
        "$$ y_t = \\frac{x_t + (1 - \\alpha)x_{t-1} + (1 - \\alpha)^2 x_{t-2} +(1 - \\alpha)^t x_{0}}{1 + (1 - \\alpha) + (1 - \\alpha)^2 + (1 - \\alpha)^t} $$\n",
        "\n",
        "Para definir un conjunto de variables:\n",
        "\n",
        "$$ \\begin{split}y_0 &= x_0 \\\\\n",
        "y_t &= (1 - \\alpha) y_{t-1} + \\alpha x_t,\\end{split}$$\n",
        "\n",
        "Si queremos expresar utilizando una llave:\n",
        "\n",
        "$$\\begin{split}w_i = \\begin{cases}\n",
        "    \\alpha (1 - \\alpha)^i & \\text{if } i < t \\\\\n",
        "    (1 - \\alpha)^i        & \\text{if } i = t.\n",
        "\\end{cases}\\end{split}$$\n",
        "\n",
        "Otra fracción:\n",
        "\n",
        "$$\\frac{\\left(\\sum_{i=0}^t w_i\\right)^2}{\\left(\\sum_{i=0}^t w_i\\right)^2 - \\sum_{i=0}^t w_i^2}.$$\n",
        "\n",
        "Ejemplo matemático:\n",
        "\n",
        "$$x = \\frac{-b \\pm \\sqrt{b^2-4ac}}{2a}$$\n"
      ]
    },
    {
      "cell_type": "markdown",
      "metadata": {
        "id": "z7uc5jWfaC3A",
        "colab_type": "text"
      },
      "source": [
        "### **Algunas letras griegas**\n",
        "\n",
        "+ La letra alfa se escribe \\alpha y se visualiza $\\alpha$\n",
        "+ La letra beta se escribe \\beta y se visualiza $\\beta$\n",
        "+ La letra gama se escribe \\gamma se visualiza $\\gamma$\n",
        "+ La letra delta se escribe \\delta se visualiza $\\delta$\n",
        "+ La letra epsilon se escribe \\epsilon se visualiza $\\epsilon$\n",
        "+ La letra omega se escribe \\omega se visualiza $\\omega$\n",
        "+ La letra pi se escribe \\pi se visualiza $\\pi$\n",
        "+ La letra tita se escribe \\theta se visualiza $\\theta$\n",
        "+ La letra kapa se escribe \\kappa se visualiza $\\kappa$\n",
        "+ La letra lambda se escribe \\lambda se visualiza $\\lambda$\n",
        "+ La letra sigma se escribe \\sigma se visualiza $\\sigma\\$\n"
      ]
    },
    {
      "cell_type": "markdown",
      "metadata": {
        "id": "zHOonyCvbTzT",
        "colab_type": "text"
      },
      "source": [
        ""
      ]
    }
  ]
}