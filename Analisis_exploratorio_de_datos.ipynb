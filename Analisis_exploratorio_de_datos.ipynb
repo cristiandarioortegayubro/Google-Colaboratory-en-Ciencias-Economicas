{
  "nbformat": 4,
  "nbformat_minor": 0,
  "metadata": {
    "colab": {
      "name": "Analisis exploratorio de datos.ipynb",
      "provenance": [],
      "collapsed_sections": [
        "wCj71glw49vO",
        "juIZUa0pusY2",
        "X02cq6-pGvjW"
      ],
      "authorship_tag": "ABX9TyOTo1I26VcHCkKrnbXlxppI",
      "include_colab_link": true
    },
    "kernelspec": {
      "name": "python3",
      "display_name": "Python 3"
    }
  },
  "cells": [
    {
      "cell_type": "markdown",
      "metadata": {
        "id": "view-in-github",
        "colab_type": "text"
      },
      "source": [
        "<a href=\"https://colab.research.google.com/github/cristiandarioortegayubro/Google-Colaboratory-en-Ciencias-Economicas/blob/master/Analisis_exploratorio_de_datos.ipynb\" target=\"_parent\"><img src=\"https://colab.research.google.com/assets/colab-badge.svg\" alt=\"Open In Colab\"/></a>"
      ]
    },
    {
      "cell_type": "markdown",
      "metadata": {
        "id": "aqBxjFRm46D2",
        "colab_type": "text"
      },
      "source": [
        "# Análisis exploratorio de datos"
      ]
    },
    {
      "cell_type": "markdown",
      "metadata": {
        "id": "wCj71glw49vO",
        "colab_type": "text"
      },
      "source": [
        "## Carga de librerias\n",
        "Se utilizan las librerias: pandas para cálculos con dataframe, datareader para obtener datos de fuente externa, datetime para trabajar con las fechas, matplotlib para los primeros gráficos y numpy para cálculos matemáticos más avanzados."
      ]
    },
    {
      "cell_type": "code",
      "metadata": {
        "id": "qKwU4sJY403B",
        "colab_type": "code",
        "colab": {}
      },
      "source": [
        "import pandas as pd\n",
        "import pandas_datareader as data\n",
        "import datetime as dt\n",
        "import matplotlib.pyplot as plot\n",
        "import numpy as np"
      ],
      "execution_count": 0,
      "outputs": []
    },
    {
      "cell_type": "markdown",
      "metadata": {
        "id": "SD8vCeSD5a62",
        "colab_type": "text"
      },
      "source": [
        "## Obtencion de los datos por ejercicios \n",
        "Se crean conjuntos de datos denominados BTC por Bitcoin para cada uno de los ejercicios, obteniendo los datos desde yahoo finanzas. En este caso se decide trabajar por año para el mismo activo digital, pero podría haber sido tambien comparar diferentes criptodivisas, ya que de la visualización de las gráficas se puede constatar que presentan el mismo comportamiento."
      ]
    },
    {
      "cell_type": "code",
      "metadata": {
        "id": "uPbeuqjn5c9X",
        "colab_type": "code",
        "colab": {}
      },
      "source": [
        "BTC2017 = data.DataReader(\"BTC-USD\", start='2017-01-01', end='2017-12-31', data_source='yahoo')\n",
        "BTC2018 = data.DataReader(\"BTC-USD\", start='2018-01-01', end='2018-12-31', data_source='yahoo')\n",
        "BTC2019 = data.DataReader(\"BTC-USD\", start='2019-01-01', end='2019-12-31', data_source='yahoo')"
      ],
      "execution_count": 0,
      "outputs": []
    },
    {
      "cell_type": "markdown",
      "metadata": {
        "id": "_N_9Fi-B5xOp",
        "colab_type": "text"
      },
      "source": [
        "## Creando dataframe y realizando limpieza y transformacion de los datos"
      ]
    },
    {
      "cell_type": "markdown",
      "metadata": {
        "id": "nOkHbu7N7T4f",
        "colab_type": "text"
      },
      "source": [
        "### Dataframe por cada uno de los años"
      ]
    },
    {
      "cell_type": "code",
      "metadata": {
        "id": "esc6NJOM55RZ",
        "colab_type": "code",
        "colab": {}
      },
      "source": [
        "BITCOIN2017 = pd.DataFrame(BTC2017)\n",
        "BITCOIN2018 = pd.DataFrame(BTC2018)\n",
        "BITCOIN2019 = pd.DataFrame(BTC2019)"
      ],
      "execution_count": 0,
      "outputs": []
    },
    {
      "cell_type": "markdown",
      "metadata": {
        "id": "dohHUiJM8GHU",
        "colab_type": "text"
      },
      "source": [
        "Se consulta la cantidad de filas y columnas por cada dataset correspondiente a cada año"
      ]
    },
    {
      "cell_type": "code",
      "metadata": {
        "id": "7ShIRmDj8cRb",
        "colab_type": "code",
        "colab": {
          "base_uri": "https://localhost:8080/",
          "height": 34
        },
        "outputId": "b532b5f2-1be7-4ef6-eee8-62ef69554d53"
      },
      "source": [
        "BITCOIN2017.shape"
      ],
      "execution_count": 4,
      "outputs": [
        {
          "output_type": "execute_result",
          "data": {
            "text/plain": [
              "(366, 6)"
            ]
          },
          "metadata": {
            "tags": []
          },
          "execution_count": 4
        }
      ]
    },
    {
      "cell_type": "code",
      "metadata": {
        "id": "zhj-VbOT8ec5",
        "colab_type": "code",
        "colab": {
          "base_uri": "https://localhost:8080/",
          "height": 34
        },
        "outputId": "0794e564-fe11-41c2-d02d-a5bb05262de8"
      },
      "source": [
        "BITCOIN2018.shape"
      ],
      "execution_count": 5,
      "outputs": [
        {
          "output_type": "execute_result",
          "data": {
            "text/plain": [
              "(366, 6)"
            ]
          },
          "metadata": {
            "tags": []
          },
          "execution_count": 5
        }
      ]
    },
    {
      "cell_type": "code",
      "metadata": {
        "id": "uqeimKe58hxn",
        "colab_type": "code",
        "colab": {
          "base_uri": "https://localhost:8080/",
          "height": 34
        },
        "outputId": "ec7d1696-f43e-4914-d879-d060ec16708c"
      },
      "source": [
        "BITCOIN2019.shape"
      ],
      "execution_count": 6,
      "outputs": [
        {
          "output_type": "execute_result",
          "data": {
            "text/plain": [
              "(366, 6)"
            ]
          },
          "metadata": {
            "tags": []
          },
          "execution_count": 6
        }
      ]
    },
    {
      "cell_type": "markdown",
      "metadata": {
        "id": "t-5Tc1FD_wng",
        "colab_type": "text"
      },
      "source": [
        "Ahora vamos a visualizar uno de los datasets creados, el correspondiente al ejercicio 2019, en el cual ya se sabe por el comando shape que contiene 366 filas y 6 columnas."
      ]
    },
    {
      "cell_type": "code",
      "metadata": {
        "id": "PgN0kJfW_8XV",
        "colab_type": "code",
        "colab": {
          "base_uri": "https://localhost:8080/",
          "height": 272
        },
        "outputId": "ebb31ec0-1494-4e82-a86b-e080c098b963"
      },
      "source": [
        "print(BITCOIN2019)"
      ],
      "execution_count": 7,
      "outputs": [
        {
          "output_type": "stream",
          "text": [
            "                   High          Low  ...       Volume    Adj Close\n",
            "Date                                  ...                          \n",
            "2019-01-01  3850.913818  3707.231201  ...   4324200990  3843.520020\n",
            "2019-01-02  3947.981201  3817.409424  ...   5244856835  3943.409424\n",
            "2019-01-03  3935.685059  3826.222900  ...   4530215218  3836.741211\n",
            "2019-01-04  3865.934570  3783.853760  ...   4847965467  3857.717529\n",
            "2019-01-05  3904.903076  3836.900146  ...   5137609823  3845.194580\n",
            "...                 ...          ...  ...          ...          ...\n",
            "2019-12-28  7399.041016  7286.905273  ...  21365673026  7317.990234\n",
            "2019-12-29  7513.948242  7279.865234  ...  22445257701  7422.652832\n",
            "2019-12-30  7454.824219  7276.308105  ...  22874131671  7292.995117\n",
            "2019-12-31  7335.290039  7169.777832  ...  21167946112  7193.599121\n",
            "2020-01-01  7254.330566  7174.944336  ...  18565664996  7200.174316\n",
            "\n",
            "[366 rows x 6 columns]\n"
          ],
          "name": "stdout"
        }
      ]
    },
    {
      "cell_type": "markdown",
      "metadata": {
        "id": "Y5DIyl-jABV4",
        "colab_type": "text"
      },
      "source": [
        "Se puede observar que los nombres de las distintas filas fueron consignados con la fecha de cada uno de los registros de cotización del Bitcoin, se procede a continuación a crear la columna Date, renombrar los nombres de las filas, y crear la variable Day con el nombre del día tomando ese dato desde la columna Date."
      ]
    },
    {
      "cell_type": "markdown",
      "metadata": {
        "id": "piFbwbQJ8sZp",
        "colab_type": "text"
      },
      "source": [
        "### Transformando datos del dataset"
      ]
    },
    {
      "cell_type": "code",
      "metadata": {
        "id": "FsVVdPz16MkB",
        "colab_type": "code",
        "colab": {}
      },
      "source": [
        "DATE2017 = BITCOIN2017.index.values\n",
        "DATE2018 = BITCOIN2018.index.values\n",
        "DATE2019 = BITCOIN2019.index.values"
      ],
      "execution_count": 0,
      "outputs": []
    },
    {
      "cell_type": "markdown",
      "metadata": {
        "id": "Z6oQtHIIA5p1",
        "colab_type": "text"
      },
      "source": [
        "De esta forma se genera la variable \"Date\" por cada año, tomando el valor del index (nombre de las filas) para luego volcar esos valores a una nueva columna"
      ]
    },
    {
      "cell_type": "code",
      "metadata": {
        "id": "YLuJm1sS6ZTw",
        "colab_type": "code",
        "colab": {}
      },
      "source": [
        "BITCOIN2017.insert(0, column='Date', value=DATE2017)\n",
        "BITCOIN2018.insert(0, column='Date', value=DATE2018)\n",
        "BITCOIN2019.insert(0, column='Date', value=DATE2019)"
      ],
      "execution_count": 0,
      "outputs": []
    },
    {
      "cell_type": "markdown",
      "metadata": {
        "id": "OvwcQvGBB9jC",
        "colab_type": "text"
      },
      "source": [
        "Con el codigo se agrega la columna Date en primera posición tomando los valores de las variables creadas anteriormente, para cada dataset de cada año analizado. A continuación visualizamos el dataset del año 2019 para ver como esta quedando."
      ]
    },
    {
      "cell_type": "code",
      "metadata": {
        "id": "wG7lyQVh6iw5",
        "colab_type": "code",
        "outputId": "715496d9-9e55-4b7b-f8d3-f598dfcf3995",
        "colab": {
          "base_uri": "https://localhost:8080/",
          "height": 272
        }
      },
      "source": [
        "print(BITCOIN2019)"
      ],
      "execution_count": 10,
      "outputs": [
        {
          "output_type": "stream",
          "text": [
            "                 Date         High  ...       Volume    Adj Close\n",
            "Date                                ...                          \n",
            "2019-01-01 2019-01-01  3850.913818  ...   4324200990  3843.520020\n",
            "2019-01-02 2019-01-02  3947.981201  ...   5244856835  3943.409424\n",
            "2019-01-03 2019-01-03  3935.685059  ...   4530215218  3836.741211\n",
            "2019-01-04 2019-01-04  3865.934570  ...   4847965467  3857.717529\n",
            "2019-01-05 2019-01-05  3904.903076  ...   5137609823  3845.194580\n",
            "...               ...          ...  ...          ...          ...\n",
            "2019-12-28 2019-12-28  7399.041016  ...  21365673026  7317.990234\n",
            "2019-12-29 2019-12-29  7513.948242  ...  22445257701  7422.652832\n",
            "2019-12-30 2019-12-30  7454.824219  ...  22874131671  7292.995117\n",
            "2019-12-31 2019-12-31  7335.290039  ...  21167946112  7193.599121\n",
            "2020-01-01 2020-01-01  7254.330566  ...  18565664996  7200.174316\n",
            "\n",
            "[366 rows x 7 columns]\n"
          ],
          "name": "stdout"
        }
      ]
    },
    {
      "cell_type": "markdown",
      "metadata": {
        "id": "7qsMRTHZCQ-1",
        "colab_type": "text"
      },
      "source": [
        "Ahora tenemos siete columnas, porque se agregó la columna Date, pero se debe cambiar el nombre a las filas, lo que se hace de la siguiente forma:"
      ]
    },
    {
      "cell_type": "code",
      "metadata": {
        "id": "xPScA5tF6rcl",
        "colab_type": "code",
        "colab": {}
      },
      "source": [
        "BITCOIN2017.reset_index(drop=True, inplace=True)\n",
        "BITCOIN2018.reset_index(drop=True, inplace=True)\n",
        "BITCOIN2019.reset_index(drop=True, inplace=True)"
      ],
      "execution_count": 0,
      "outputs": []
    },
    {
      "cell_type": "markdown",
      "metadata": {
        "id": "RTvfuDzkClMr",
        "colab_type": "text"
      },
      "source": [
        "Y el dataframe presenta ahora el siguiente aspecto:"
      ]
    },
    {
      "cell_type": "code",
      "metadata": {
        "id": "xCytZHgN61bp",
        "colab_type": "code",
        "outputId": "f08dbf43-c4e6-46b4-a58c-3663b719ec33",
        "colab": {
          "base_uri": "https://localhost:8080/",
          "height": 255
        }
      },
      "source": [
        "print(BITCOIN2019)"
      ],
      "execution_count": 12,
      "outputs": [
        {
          "output_type": "stream",
          "text": [
            "          Date         High          Low  ...        Close       Volume    Adj Close\n",
            "0   2019-01-01  3850.913818  3707.231201  ...  3843.520020   4324200990  3843.520020\n",
            "1   2019-01-02  3947.981201  3817.409424  ...  3943.409424   5244856835  3943.409424\n",
            "2   2019-01-03  3935.685059  3826.222900  ...  3836.741211   4530215218  3836.741211\n",
            "3   2019-01-04  3865.934570  3783.853760  ...  3857.717529   4847965467  3857.717529\n",
            "4   2019-01-05  3904.903076  3836.900146  ...  3845.194580   5137609823  3845.194580\n",
            "..         ...          ...          ...  ...          ...          ...          ...\n",
            "361 2019-12-28  7399.041016  7286.905273  ...  7317.990234  21365673026  7317.990234\n",
            "362 2019-12-29  7513.948242  7279.865234  ...  7422.652832  22445257701  7422.652832\n",
            "363 2019-12-30  7454.824219  7276.308105  ...  7292.995117  22874131671  7292.995117\n",
            "364 2019-12-31  7335.290039  7169.777832  ...  7193.599121  21167946112  7193.599121\n",
            "365 2020-01-01  7254.330566  7174.944336  ...  7200.174316  18565664996  7200.174316\n",
            "\n",
            "[366 rows x 7 columns]\n"
          ],
          "name": "stdout"
        }
      ]
    },
    {
      "cell_type": "markdown",
      "metadata": {
        "id": "ReMiw0RLCxvf",
        "colab_type": "text"
      },
      "source": [
        "### Creando datos para los diferentes datasets"
      ]
    },
    {
      "cell_type": "code",
      "metadata": {
        "id": "8qS6JlfN6_g7",
        "colab_type": "code",
        "colab": {}
      },
      "source": [
        "BITCOIN2017['Day']=pd.DatetimeIndex(BITCOIN2017['Date']).day_name()\n",
        "BITCOIN2018['Day']=pd.DatetimeIndex(BITCOIN2018['Date']).day_name()\n",
        "BITCOIN2019['Day']=pd.DatetimeIndex(BITCOIN2019['Date']).day_name()"
      ],
      "execution_count": 0,
      "outputs": []
    },
    {
      "cell_type": "code",
      "metadata": {
        "id": "TaCV8xZw7TQN",
        "colab_type": "code",
        "outputId": "df265893-6f90-49d7-fae2-73fd7065d2d4",
        "colab": {
          "base_uri": "https://localhost:8080/",
          "height": 255
        }
      },
      "source": [
        "print(BITCOIN2019)"
      ],
      "execution_count": 14,
      "outputs": [
        {
          "output_type": "stream",
          "text": [
            "          Date         High          Low  ...       Volume    Adj Close        Day\n",
            "0   2019-01-01  3850.913818  3707.231201  ...   4324200990  3843.520020    Tuesday\n",
            "1   2019-01-02  3947.981201  3817.409424  ...   5244856835  3943.409424  Wednesday\n",
            "2   2019-01-03  3935.685059  3826.222900  ...   4530215218  3836.741211   Thursday\n",
            "3   2019-01-04  3865.934570  3783.853760  ...   4847965467  3857.717529     Friday\n",
            "4   2019-01-05  3904.903076  3836.900146  ...   5137609823  3845.194580   Saturday\n",
            "..         ...          ...          ...  ...          ...          ...        ...\n",
            "361 2019-12-28  7399.041016  7286.905273  ...  21365673026  7317.990234   Saturday\n",
            "362 2019-12-29  7513.948242  7279.865234  ...  22445257701  7422.652832     Sunday\n",
            "363 2019-12-30  7454.824219  7276.308105  ...  22874131671  7292.995117     Monday\n",
            "364 2019-12-31  7335.290039  7169.777832  ...  21167946112  7193.599121    Tuesday\n",
            "365 2020-01-01  7254.330566  7174.944336  ...  18565664996  7200.174316  Wednesday\n",
            "\n",
            "[366 rows x 8 columns]\n"
          ],
          "name": "stdout"
        }
      ]
    },
    {
      "cell_type": "markdown",
      "metadata": {
        "id": "ruk8EwwQDTBR",
        "colab_type": "text"
      },
      "source": [
        "Ahora tenemos 8 columnas en cada uno de los datasets porque tenemos la columna Day con el nombre del día correspondiente a la fecha de cotización registrada del Bitcoin."
      ]
    },
    {
      "cell_type": "markdown",
      "metadata": {
        "id": "7qvqkF1CDqo7",
        "colab_type": "text"
      },
      "source": [
        "### Cambiando el nombre de una columna de cada uno de los Datasets\n",
        "Ese cambio es necesario, porque algunos parámetros de algoritmos que se utilizarán no aceptan nonmbres de columnas de dos palabras, por eso se utiliza un guión bajo."
      ]
    },
    {
      "cell_type": "code",
      "metadata": {
        "id": "LxrSNpwB7fUz",
        "colab_type": "code",
        "colab": {}
      },
      "source": [
        "BITCOIN2017.rename(columns={'Adj Close':'Adj_Close_2017'}, inplace=True)\n",
        "BITCOIN2018.rename(columns={'Adj Close':'Adj_Close_2018'}, inplace=True)\n",
        "BITCOIN2019.rename(columns={'Adj Close':'Adj_Close_2019'}, inplace=True)"
      ],
      "execution_count": 0,
      "outputs": []
    },
    {
      "cell_type": "code",
      "metadata": {
        "id": "sOG6y5Af7uE6",
        "colab_type": "code",
        "outputId": "07a79472-d810-40ff-9498-0de2f13f17c4",
        "colab": {
          "base_uri": "https://localhost:8080/",
          "height": 255
        }
      },
      "source": [
        "print(BITCOIN2019)"
      ],
      "execution_count": 16,
      "outputs": [
        {
          "output_type": "stream",
          "text": [
            "          Date         High  ...  Adj_Close_2019        Day\n",
            "0   2019-01-01  3850.913818  ...     3843.520020    Tuesday\n",
            "1   2019-01-02  3947.981201  ...     3943.409424  Wednesday\n",
            "2   2019-01-03  3935.685059  ...     3836.741211   Thursday\n",
            "3   2019-01-04  3865.934570  ...     3857.717529     Friday\n",
            "4   2019-01-05  3904.903076  ...     3845.194580   Saturday\n",
            "..         ...          ...  ...             ...        ...\n",
            "361 2019-12-28  7399.041016  ...     7317.990234   Saturday\n",
            "362 2019-12-29  7513.948242  ...     7422.652832     Sunday\n",
            "363 2019-12-30  7454.824219  ...     7292.995117     Monday\n",
            "364 2019-12-31  7335.290039  ...     7193.599121    Tuesday\n",
            "365 2020-01-01  7254.330566  ...     7200.174316  Wednesday\n",
            "\n",
            "[366 rows x 8 columns]\n"
          ],
          "name": "stdout"
        }
      ]
    },
    {
      "cell_type": "markdown",
      "metadata": {
        "id": "mT2kB4V8Edcf",
        "colab_type": "text"
      },
      "source": [
        "### Creando la columna Returns\n",
        "Se crea una columna nueva por cada datasets, con los retorno de los precios, definiendo esos retornos como el precio del dia n, menos el precio del dia n-1 tal como se visualiza en la siguiente ecuación:\n"
      ]
    },
    {
      "cell_type": "code",
      "metadata": {
        "id": "_iaaUtwU74k2",
        "colab_type": "code",
        "colab": {}
      },
      "source": [
        "BITCOIN2017['Return_2017']=BITCOIN2017.Adj_Close_2017.pct_change()\n",
        "BITCOIN2018['Return_2018']=BITCOIN2018.Adj_Close_2018.pct_change()\n",
        "BITCOIN2019['Return_2019']=BITCOIN2019.Adj_Close_2019.pct_change()"
      ],
      "execution_count": 0,
      "outputs": []
    },
    {
      "cell_type": "code",
      "metadata": {
        "id": "TUb6syTM8Ehi",
        "colab_type": "code",
        "outputId": "471e33c3-aa94-4ba8-e3a0-f2646b94e115",
        "colab": {
          "base_uri": "https://localhost:8080/",
          "height": 255
        }
      },
      "source": [
        "print(BITCOIN2019)"
      ],
      "execution_count": 18,
      "outputs": [
        {
          "output_type": "stream",
          "text": [
            "          Date         High  ...        Day  Return_2019\n",
            "0   2019-01-01  3850.913818  ...    Tuesday          NaN\n",
            "1   2019-01-02  3947.981201  ...  Wednesday     0.025989\n",
            "2   2019-01-03  3935.685059  ...   Thursday    -0.027050\n",
            "3   2019-01-04  3865.934570  ...     Friday     0.005467\n",
            "4   2019-01-05  3904.903076  ...   Saturday    -0.003246\n",
            "..         ...          ...  ...        ...          ...\n",
            "361 2019-12-28  7399.041016  ...   Saturday     0.003827\n",
            "362 2019-12-29  7513.948242  ...     Sunday     0.014302\n",
            "363 2019-12-30  7454.824219  ...     Monday    -0.017468\n",
            "364 2019-12-31  7335.290039  ...    Tuesday    -0.013629\n",
            "365 2020-01-01  7254.330566  ...  Wednesday     0.000914\n",
            "\n",
            "[366 rows x 9 columns]\n"
          ],
          "name": "stdout"
        }
      ]
    },
    {
      "cell_type": "markdown",
      "metadata": {
        "id": "AtvzVz1aFuBn",
        "colab_type": "text"
      },
      "source": [
        "Ahora tenemos 9 columnas, la que se agrega es el calculo del retorno, por su forma de calcular se puede observar que para el dia inicial del dataset, posición 0, no hay un valor disponible porque no tiene el valor correspondiente al dia n-1."
      ]
    },
    {
      "cell_type": "markdown",
      "metadata": {
        "id": "juIZUa0pusY2",
        "colab_type": "text"
      },
      "source": [
        "## Cálculos de estadística descriptiva"
      ]
    },
    {
      "cell_type": "code",
      "metadata": {
        "id": "GXELen7su3lw",
        "colab_type": "code",
        "colab": {}
      },
      "source": [
        "import seaborn as sns \n",
        "import scipy.stats as scs\n",
        "import statsmodels.api as sm\n",
        "import statsmodels.tsa.api as smt"
      ],
      "execution_count": 0,
      "outputs": []
    },
    {
      "cell_type": "code",
      "metadata": {
        "id": "bjTMe3iBvlZg",
        "colab_type": "code",
        "colab": {
          "base_uri": "https://localhost:8080/",
          "height": 204
        },
        "outputId": "14ee2f51-b535-4782-cc6f-02c71085d775"
      },
      "source": [
        "BITCOIN2017.head()"
      ],
      "execution_count": 20,
      "outputs": [
        {
          "output_type": "execute_result",
          "data": {
            "text/html": [
              "<div>\n",
              "<style scoped>\n",
              "    .dataframe tbody tr th:only-of-type {\n",
              "        vertical-align: middle;\n",
              "    }\n",
              "\n",
              "    .dataframe tbody tr th {\n",
              "        vertical-align: top;\n",
              "    }\n",
              "\n",
              "    .dataframe thead th {\n",
              "        text-align: right;\n",
              "    }\n",
              "</style>\n",
              "<table border=\"1\" class=\"dataframe\">\n",
              "  <thead>\n",
              "    <tr style=\"text-align: right;\">\n",
              "      <th></th>\n",
              "      <th>Date</th>\n",
              "      <th>High</th>\n",
              "      <th>Low</th>\n",
              "      <th>Open</th>\n",
              "      <th>Close</th>\n",
              "      <th>Volume</th>\n",
              "      <th>Adj_Close_2017</th>\n",
              "      <th>Day</th>\n",
              "      <th>Return_2017</th>\n",
              "    </tr>\n",
              "  </thead>\n",
              "  <tbody>\n",
              "    <tr>\n",
              "      <th>0</th>\n",
              "      <td>2017-01-01</td>\n",
              "      <td>1003.080017</td>\n",
              "      <td>958.698975</td>\n",
              "      <td>963.658020</td>\n",
              "      <td>998.325012</td>\n",
              "      <td>147775008</td>\n",
              "      <td>998.325012</td>\n",
              "      <td>Sunday</td>\n",
              "      <td>NaN</td>\n",
              "    </tr>\n",
              "    <tr>\n",
              "      <th>1</th>\n",
              "      <td>2017-01-02</td>\n",
              "      <td>1031.390015</td>\n",
              "      <td>996.702026</td>\n",
              "      <td>998.617004</td>\n",
              "      <td>1021.750000</td>\n",
              "      <td>222184992</td>\n",
              "      <td>1021.750000</td>\n",
              "      <td>Monday</td>\n",
              "      <td>0.023464</td>\n",
              "    </tr>\n",
              "    <tr>\n",
              "      <th>2</th>\n",
              "      <td>2017-01-03</td>\n",
              "      <td>1044.079956</td>\n",
              "      <td>1021.599976</td>\n",
              "      <td>1021.599976</td>\n",
              "      <td>1043.839966</td>\n",
              "      <td>185168000</td>\n",
              "      <td>1043.839966</td>\n",
              "      <td>Tuesday</td>\n",
              "      <td>0.021620</td>\n",
              "    </tr>\n",
              "    <tr>\n",
              "      <th>3</th>\n",
              "      <td>2017-01-04</td>\n",
              "      <td>1159.420044</td>\n",
              "      <td>1044.400024</td>\n",
              "      <td>1044.400024</td>\n",
              "      <td>1154.729980</td>\n",
              "      <td>344945984</td>\n",
              "      <td>1154.729980</td>\n",
              "      <td>Wednesday</td>\n",
              "      <td>0.106233</td>\n",
              "    </tr>\n",
              "    <tr>\n",
              "      <th>4</th>\n",
              "      <td>2017-01-05</td>\n",
              "      <td>1191.099976</td>\n",
              "      <td>910.416992</td>\n",
              "      <td>1156.729980</td>\n",
              "      <td>1013.380005</td>\n",
              "      <td>510199008</td>\n",
              "      <td>1013.380005</td>\n",
              "      <td>Thursday</td>\n",
              "      <td>-0.122410</td>\n",
              "    </tr>\n",
              "  </tbody>\n",
              "</table>\n",
              "</div>"
            ],
            "text/plain": [
              "        Date         High          Low  ...  Adj_Close_2017        Day  Return_2017\n",
              "0 2017-01-01  1003.080017   958.698975  ...      998.325012     Sunday          NaN\n",
              "1 2017-01-02  1031.390015   996.702026  ...     1021.750000     Monday     0.023464\n",
              "2 2017-01-03  1044.079956  1021.599976  ...     1043.839966    Tuesday     0.021620\n",
              "3 2017-01-04  1159.420044  1044.400024  ...     1154.729980  Wednesday     0.106233\n",
              "4 2017-01-05  1191.099976   910.416992  ...     1013.380005   Thursday    -0.122410\n",
              "\n",
              "[5 rows x 9 columns]"
            ]
          },
          "metadata": {
            "tags": []
          },
          "execution_count": 20
        }
      ]
    },
    {
      "cell_type": "code",
      "metadata": {
        "id": "V5pT1Ogcvtq7",
        "colab_type": "code",
        "colab": {
          "base_uri": "https://localhost:8080/",
          "height": 204
        },
        "outputId": "c8228683-0855-4af5-e8a4-6e093b3c5a9e"
      },
      "source": [
        "BITCOIN2018.head()"
      ],
      "execution_count": 21,
      "outputs": [
        {
          "output_type": "execute_result",
          "data": {
            "text/html": [
              "<div>\n",
              "<style scoped>\n",
              "    .dataframe tbody tr th:only-of-type {\n",
              "        vertical-align: middle;\n",
              "    }\n",
              "\n",
              "    .dataframe tbody tr th {\n",
              "        vertical-align: top;\n",
              "    }\n",
              "\n",
              "    .dataframe thead th {\n",
              "        text-align: right;\n",
              "    }\n",
              "</style>\n",
              "<table border=\"1\" class=\"dataframe\">\n",
              "  <thead>\n",
              "    <tr style=\"text-align: right;\">\n",
              "      <th></th>\n",
              "      <th>Date</th>\n",
              "      <th>High</th>\n",
              "      <th>Low</th>\n",
              "      <th>Open</th>\n",
              "      <th>Close</th>\n",
              "      <th>Volume</th>\n",
              "      <th>Adj_Close_2018</th>\n",
              "      <th>Day</th>\n",
              "      <th>Return_2018</th>\n",
              "    </tr>\n",
              "  </thead>\n",
              "  <tbody>\n",
              "    <tr>\n",
              "      <th>0</th>\n",
              "      <td>2018-01-01</td>\n",
              "      <td>14112.200195</td>\n",
              "      <td>13154.700195</td>\n",
              "      <td>14112.200195</td>\n",
              "      <td>13657.200195</td>\n",
              "      <td>10291200000</td>\n",
              "      <td>13657.200195</td>\n",
              "      <td>Monday</td>\n",
              "      <td>NaN</td>\n",
              "    </tr>\n",
              "    <tr>\n",
              "      <th>1</th>\n",
              "      <td>2018-01-02</td>\n",
              "      <td>15444.599609</td>\n",
              "      <td>13163.599609</td>\n",
              "      <td>13625.000000</td>\n",
              "      <td>14982.099609</td>\n",
              "      <td>16846600192</td>\n",
              "      <td>14982.099609</td>\n",
              "      <td>Tuesday</td>\n",
              "      <td>0.097011</td>\n",
              "    </tr>\n",
              "    <tr>\n",
              "      <th>2</th>\n",
              "      <td>2018-01-03</td>\n",
              "      <td>15572.799805</td>\n",
              "      <td>14844.500000</td>\n",
              "      <td>14978.200195</td>\n",
              "      <td>15201.000000</td>\n",
              "      <td>16871900160</td>\n",
              "      <td>15201.000000</td>\n",
              "      <td>Wednesday</td>\n",
              "      <td>0.014611</td>\n",
              "    </tr>\n",
              "    <tr>\n",
              "      <th>3</th>\n",
              "      <td>2018-01-04</td>\n",
              "      <td>15739.700195</td>\n",
              "      <td>14522.200195</td>\n",
              "      <td>15270.700195</td>\n",
              "      <td>15599.200195</td>\n",
              "      <td>21783199744</td>\n",
              "      <td>15599.200195</td>\n",
              "      <td>Thursday</td>\n",
              "      <td>0.026196</td>\n",
              "    </tr>\n",
              "    <tr>\n",
              "      <th>4</th>\n",
              "      <td>2018-01-05</td>\n",
              "      <td>17705.199219</td>\n",
              "      <td>15202.799805</td>\n",
              "      <td>15477.200195</td>\n",
              "      <td>17429.500000</td>\n",
              "      <td>23840899072</td>\n",
              "      <td>17429.500000</td>\n",
              "      <td>Friday</td>\n",
              "      <td>0.117333</td>\n",
              "    </tr>\n",
              "  </tbody>\n",
              "</table>\n",
              "</div>"
            ],
            "text/plain": [
              "        Date          High  ...        Day  Return_2018\n",
              "0 2018-01-01  14112.200195  ...     Monday          NaN\n",
              "1 2018-01-02  15444.599609  ...    Tuesday     0.097011\n",
              "2 2018-01-03  15572.799805  ...  Wednesday     0.014611\n",
              "3 2018-01-04  15739.700195  ...   Thursday     0.026196\n",
              "4 2018-01-05  17705.199219  ...     Friday     0.117333\n",
              "\n",
              "[5 rows x 9 columns]"
            ]
          },
          "metadata": {
            "tags": []
          },
          "execution_count": 21
        }
      ]
    },
    {
      "cell_type": "code",
      "metadata": {
        "id": "lw1hw-KcvybP",
        "colab_type": "code",
        "colab": {
          "base_uri": "https://localhost:8080/",
          "height": 204
        },
        "outputId": "1dbd2fd9-1d3a-4f13-9e24-93e42169e6b8"
      },
      "source": [
        "BITCOIN2019.head()"
      ],
      "execution_count": 22,
      "outputs": [
        {
          "output_type": "execute_result",
          "data": {
            "text/html": [
              "<div>\n",
              "<style scoped>\n",
              "    .dataframe tbody tr th:only-of-type {\n",
              "        vertical-align: middle;\n",
              "    }\n",
              "\n",
              "    .dataframe tbody tr th {\n",
              "        vertical-align: top;\n",
              "    }\n",
              "\n",
              "    .dataframe thead th {\n",
              "        text-align: right;\n",
              "    }\n",
              "</style>\n",
              "<table border=\"1\" class=\"dataframe\">\n",
              "  <thead>\n",
              "    <tr style=\"text-align: right;\">\n",
              "      <th></th>\n",
              "      <th>Date</th>\n",
              "      <th>High</th>\n",
              "      <th>Low</th>\n",
              "      <th>Open</th>\n",
              "      <th>Close</th>\n",
              "      <th>Volume</th>\n",
              "      <th>Adj_Close_2019</th>\n",
              "      <th>Day</th>\n",
              "      <th>Return_2019</th>\n",
              "    </tr>\n",
              "  </thead>\n",
              "  <tbody>\n",
              "    <tr>\n",
              "      <th>0</th>\n",
              "      <td>2019-01-01</td>\n",
              "      <td>3850.913818</td>\n",
              "      <td>3707.231201</td>\n",
              "      <td>3746.713379</td>\n",
              "      <td>3843.520020</td>\n",
              "      <td>4324200990</td>\n",
              "      <td>3843.520020</td>\n",
              "      <td>Tuesday</td>\n",
              "      <td>NaN</td>\n",
              "    </tr>\n",
              "    <tr>\n",
              "      <th>1</th>\n",
              "      <td>2019-01-02</td>\n",
              "      <td>3947.981201</td>\n",
              "      <td>3817.409424</td>\n",
              "      <td>3849.216309</td>\n",
              "      <td>3943.409424</td>\n",
              "      <td>5244856835</td>\n",
              "      <td>3943.409424</td>\n",
              "      <td>Wednesday</td>\n",
              "      <td>0.025989</td>\n",
              "    </tr>\n",
              "    <tr>\n",
              "      <th>2</th>\n",
              "      <td>2019-01-03</td>\n",
              "      <td>3935.685059</td>\n",
              "      <td>3826.222900</td>\n",
              "      <td>3931.048584</td>\n",
              "      <td>3836.741211</td>\n",
              "      <td>4530215218</td>\n",
              "      <td>3836.741211</td>\n",
              "      <td>Thursday</td>\n",
              "      <td>-0.027050</td>\n",
              "    </tr>\n",
              "    <tr>\n",
              "      <th>3</th>\n",
              "      <td>2019-01-04</td>\n",
              "      <td>3865.934570</td>\n",
              "      <td>3783.853760</td>\n",
              "      <td>3832.040039</td>\n",
              "      <td>3857.717529</td>\n",
              "      <td>4847965467</td>\n",
              "      <td>3857.717529</td>\n",
              "      <td>Friday</td>\n",
              "      <td>0.005467</td>\n",
              "    </tr>\n",
              "    <tr>\n",
              "      <th>4</th>\n",
              "      <td>2019-01-05</td>\n",
              "      <td>3904.903076</td>\n",
              "      <td>3836.900146</td>\n",
              "      <td>3851.973877</td>\n",
              "      <td>3845.194580</td>\n",
              "      <td>5137609823</td>\n",
              "      <td>3845.194580</td>\n",
              "      <td>Saturday</td>\n",
              "      <td>-0.003246</td>\n",
              "    </tr>\n",
              "  </tbody>\n",
              "</table>\n",
              "</div>"
            ],
            "text/plain": [
              "        Date         High          Low  ...  Adj_Close_2019        Day  Return_2019\n",
              "0 2019-01-01  3850.913818  3707.231201  ...     3843.520020    Tuesday          NaN\n",
              "1 2019-01-02  3947.981201  3817.409424  ...     3943.409424  Wednesday     0.025989\n",
              "2 2019-01-03  3935.685059  3826.222900  ...     3836.741211   Thursday    -0.027050\n",
              "3 2019-01-04  3865.934570  3783.853760  ...     3857.717529     Friday     0.005467\n",
              "4 2019-01-05  3904.903076  3836.900146  ...     3845.194580   Saturday    -0.003246\n",
              "\n",
              "[5 rows x 9 columns]"
            ]
          },
          "metadata": {
            "tags": []
          },
          "execution_count": 22
        }
      ]
    },
    {
      "cell_type": "code",
      "metadata": {
        "id": "55zxqs8nwBB-",
        "colab_type": "code",
        "colab": {
          "base_uri": "https://localhost:8080/",
          "height": 170
        },
        "outputId": "2a2e0d72-6414-4456-c28a-d16790f0e45c"
      },
      "source": [
        "BITCOIN2017.Adj_Close_2017.describe()"
      ],
      "execution_count": 23,
      "outputs": [
        {
          "output_type": "execute_result",
          "data": {
            "text/plain": [
              "count      366.000000\n",
              "mean      4032.402936\n",
              "std       4078.952363\n",
              "min        777.757019\n",
              "25%       1188.024994\n",
              "50%       2589.505005\n",
              "75%       4578.957520\n",
              "max      19497.400391\n",
              "Name: Adj_Close_2017, dtype: float64"
            ]
          },
          "metadata": {
            "tags": []
          },
          "execution_count": 23
        }
      ]
    },
    {
      "cell_type": "code",
      "metadata": {
        "id": "deQN85wewdVY",
        "colab_type": "code",
        "colab": {
          "base_uri": "https://localhost:8080/",
          "height": 170
        },
        "outputId": "23293c2f-a1f8-47b8-f758-5817483b9d03"
      },
      "source": [
        "BITCOIN2018.Adj_Close_2018.describe()"
      ],
      "execution_count": 24,
      "outputs": [
        {
          "output_type": "execute_result",
          "data": {
            "text/plain": [
              "count      366.000000\n",
              "mean      7562.111026\n",
              "std       2459.823474\n",
              "min       3236.761719\n",
              "25%       6379.739868\n",
              "50%       6898.719971\n",
              "75%       8658.752686\n",
              "max      17527.000000\n",
              "Name: Adj_Close_2018, dtype: float64"
            ]
          },
          "metadata": {
            "tags": []
          },
          "execution_count": 24
        }
      ]
    },
    {
      "cell_type": "code",
      "metadata": {
        "id": "oTcpA2BYwiFk",
        "colab_type": "code",
        "colab": {
          "base_uri": "https://localhost:8080/",
          "height": 170
        },
        "outputId": "2ee4ca52-bd91-4751-e485-a8245343fce2"
      },
      "source": [
        "BITCOIN2019.Adj_Close_2019.describe()"
      ],
      "execution_count": 25,
      "outputs": [
        {
          "output_type": "execute_result",
          "data": {
            "text/plain": [
              "count      366.000000\n",
              "mean      7394.713297\n",
              "std       2635.037733\n",
              "min       3399.471680\n",
              "25%       4890.608154\n",
              "50%       7823.127441\n",
              "75%       9545.576172\n",
              "max      13016.231445\n",
              "Name: Adj_Close_2019, dtype: float64"
            ]
          },
          "metadata": {
            "tags": []
          },
          "execution_count": 25
        }
      ]
    },
    {
      "cell_type": "markdown",
      "metadata": {
        "id": "X02cq6-pGvjW",
        "colab_type": "text"
      },
      "source": [
        "### Calculos para gráficos de Histograma y Q-Q Plots\n",
        "Definiendo variables para graficos de Histograma y Q-Q Plots"
      ]
    },
    {
      "cell_type": "code",
      "metadata": {
        "id": "kKvKl6Z_xq8t",
        "colab_type": "code",
        "colab": {}
      },
      "source": [
        "rango2017 = BITCOIN2017.Return_2017.max() - BITCOIN2017.Return_2017.min()\n",
        "rango2018 = BITCOIN2018.Return_2018.max() - BITCOIN2018.Return_2018.min()\n",
        "rango2019 = BITCOIN2019.Return_2019.max() - BITCOIN2019.Return_2019.min()"
      ],
      "execution_count": 0,
      "outputs": []
    },
    {
      "cell_type": "code",
      "metadata": {
        "id": "AIuaUusXyYlT",
        "colab_type": "code",
        "colab": {}
      },
      "source": [
        "media2017 = BITCOIN2017.Return_2017.mean()\n",
        "media2018 = BITCOIN2018.Return_2018.mean()\n",
        "media2019 = BITCOIN2019.Return_2019.mean()"
      ],
      "execution_count": 0,
      "outputs": []
    },
    {
      "cell_type": "code",
      "metadata": {
        "id": "4CKoBcvGzkuv",
        "colab_type": "code",
        "colab": {}
      },
      "source": [
        "desviacion2017 = BITCOIN2017.Return_2017.std()\n",
        "desviacion2018 = BITCOIN2018.Return_2018.std()\n",
        "desviacion2019 = BITCOIN2019.Return_2019.std()"
      ],
      "execution_count": 0,
      "outputs": []
    },
    {
      "cell_type": "code",
      "metadata": {
        "id": "sYBwldTIz0qz",
        "colab_type": "code",
        "colab": {}
      },
      "source": [
        "norm_pdf2017 = scs.norm.pdf(rango2017, loc=media2017, scale=desviacion2017)\n",
        "norm_pdf2018 = scs.norm.pdf(rango2018, loc=media2018, scale=desviacion2018) \n",
        "norm_pdf2019 = scs.norm.pdf(rango2019, loc=media2019, scale=desviacion2019)  "
      ],
      "execution_count": 0,
      "outputs": []
    },
    {
      "cell_type": "markdown",
      "metadata": {
        "id": "WfxglOXKptAb",
        "colab_type": "text"
      },
      "source": [
        "# Redes Neuronales Convolucionales para predicción de serie de tiempo (CNN 1D)"
      ]
    },
    {
      "cell_type": "markdown",
      "metadata": {
        "id": "oWiSJafaqcKo",
        "colab_type": "text"
      },
      "source": [
        "## Carga de librerias\n"
      ]
    },
    {
      "cell_type": "code",
      "metadata": {
        "id": "PLE4_15K_aNR",
        "colab_type": "code",
        "colab": {
          "base_uri": "https://localhost:8080/",
          "height": 377
        },
        "outputId": "c7fc4678-c00b-4d10-cd9e-613c98a0633e"
      },
      "source": [
        "pip install yfinance"
      ],
      "execution_count": 31,
      "outputs": [
        {
          "output_type": "stream",
          "text": [
            "Collecting yfinance\n",
            "  Downloading https://files.pythonhosted.org/packages/c2/31/8b374a12b90def92a4e27d0fc595fc43635f395984e36a075244d98bd265/yfinance-0.1.54.tar.gz\n",
            "Requirement already satisfied: pandas>=0.24 in /usr/local/lib/python3.6/dist-packages (from yfinance) (1.0.3)\n",
            "Requirement already satisfied: numpy>=1.15 in /usr/local/lib/python3.6/dist-packages (from yfinance) (1.18.4)\n",
            "Requirement already satisfied: requests>=2.20 in /usr/local/lib/python3.6/dist-packages (from yfinance) (2.23.0)\n",
            "Requirement already satisfied: multitasking>=0.0.7 in /usr/local/lib/python3.6/dist-packages (from yfinance) (0.0.9)\n",
            "Requirement already satisfied: pytz>=2017.2 in /usr/local/lib/python3.6/dist-packages (from pandas>=0.24->yfinance) (2018.9)\n",
            "Requirement already satisfied: python-dateutil>=2.6.1 in /usr/local/lib/python3.6/dist-packages (from pandas>=0.24->yfinance) (2.8.1)\n",
            "Requirement already satisfied: certifi>=2017.4.17 in /usr/local/lib/python3.6/dist-packages (from requests>=2.20->yfinance) (2020.4.5.1)\n",
            "Requirement already satisfied: chardet<4,>=3.0.2 in /usr/local/lib/python3.6/dist-packages (from requests>=2.20->yfinance) (3.0.4)\n",
            "Requirement already satisfied: idna<3,>=2.5 in /usr/local/lib/python3.6/dist-packages (from requests>=2.20->yfinance) (2.9)\n",
            "Requirement already satisfied: urllib3!=1.25.0,!=1.25.1,<1.26,>=1.21.1 in /usr/local/lib/python3.6/dist-packages (from requests>=2.20->yfinance) (1.24.3)\n",
            "Requirement already satisfied: six>=1.5 in /usr/local/lib/python3.6/dist-packages (from python-dateutil>=2.6.1->pandas>=0.24->yfinance) (1.12.0)\n",
            "Building wheels for collected packages: yfinance\n",
            "  Building wheel for yfinance (setup.py) ... \u001b[?25l\u001b[?25hdone\n",
            "  Created wheel for yfinance: filename=yfinance-0.1.54-py2.py3-none-any.whl size=22409 sha256=9da3806c500f937b81fe1ec2ffc0b96caa2d3318319558f98c446b6713abe2cf\n",
            "  Stored in directory: /root/.cache/pip/wheels/f9/e3/5b/ec24dd2984b12d61e0abf26289746c2436a0e7844f26f2515c\n",
            "Successfully built yfinance\n",
            "Installing collected packages: yfinance\n",
            "Successfully installed yfinance-0.1.54\n"
          ],
          "name": "stdout"
        }
      ]
    },
    {
      "cell_type": "code",
      "metadata": {
        "id": "C7b8nSZ2pxFz",
        "colab_type": "code",
        "colab": {}
      },
      "source": [
        "import yfinance as yf\n",
        "import numpy as np\n",
        "import os\n",
        "import random\n",
        "import torch\n",
        "import torch.optim as optim\n",
        "import torch.nn as nn\n",
        "from torch.utils.data import (Dataset, TensorDataset, DataLoader, Subset)\n",
        "from collections import OrderedDict\n",
        "from sklearn.metrics import mean_squared_error\n",
        "device = 'cuda' if torch.cuda.is_available() else 'cpu'"
      ],
      "execution_count": 0,
      "outputs": []
    },
    {
      "cell_type": "markdown",
      "metadata": {
        "id": "Y-tL8F11ydMh",
        "colab_type": "text"
      },
      "source": [
        "## CNN 1D"
      ]
    },
    {
      "cell_type": "code",
      "metadata": {
        "id": "SXWYysNL0wFM",
        "colab_type": "code",
        "colab": {}
      },
      "source": [
        "# Bitcoin 2017\n",
        "TICKER = 'BTC-USD'\n",
        "START_DATE = '2017-01-01'\n",
        "END_DATE = '2017-12-31'\n",
        "VALID_START = '2017-07-01'\n",
        "N_LAGS = 12\n",
        "\n",
        "# red neuronal \n",
        "BATCH_SIZE = 5\n",
        "N_EPOCHS = 2000"
      ],
      "execution_count": 0,
      "outputs": []
    },
    {
      "cell_type": "code",
      "metadata": {
        "id": "gxzeOkum7JzE",
        "colab_type": "code",
        "colab": {}
      },
      "source": [
        "df = yf.download(TICKER, start=START_DATE, end=END_DATE, progress=False)\n",
        "\n",
        "df = df.resample('W-MON').last()\n",
        "valid_size = df.loc[VALID_START:END_DATE].shape[0]\n",
        "prices = df['Adj Close'].values"
      ],
      "execution_count": 0,
      "outputs": []
    },
    {
      "cell_type": "code",
      "metadata": {
        "id": "ufg-K3hd8GmS",
        "colab_type": "code",
        "colab": {}
      },
      "source": [
        "def create_input_data(series, n_lags=1):\n",
        "    \n",
        "    X, y = [], []\n",
        "    for step in range(len(series) - n_lags):\n",
        "        end_step = step + n_lags\n",
        "        X.append(series[step:end_step])\n",
        "        y.append(series[end_step])\n",
        "    return np.array(X), np.array(y)"
      ],
      "execution_count": 0,
      "outputs": []
    },
    {
      "cell_type": "code",
      "metadata": {
        "id": "3rII6e-87b5g",
        "colab_type": "code",
        "colab": {}
      },
      "source": [
        "X, y = create_input_data(prices, N_LAGS)"
      ],
      "execution_count": 0,
      "outputs": []
    },
    {
      "cell_type": "code",
      "metadata": {
        "id": "8CqMGgH08RtX",
        "colab_type": "code",
        "colab": {
          "base_uri": "https://localhost:8080/",
          "height": 34
        },
        "outputId": "1e973a17-904d-4658-b86b-fcd214b05bdb"
      },
      "source": [
        "naive_pred = prices[len(prices) - valid_size - 1:-1]\n",
        "y_valid = prices[len(prices) - valid_size:]\n",
        "\n",
        "naive_mse = mean_squared_error(y_valid, naive_pred)\n",
        "naive_rmse = np.sqrt(naive_mse)\n",
        "print(f\"Naive forecast – MSE: {naive_mse:.2f}, RMSE: {naive_rmse:.2f}\")"
      ],
      "execution_count": 37,
      "outputs": [
        {
          "output_type": "stream",
          "text": [
            "Naive forecast – MSE: 2745303.21, RMSE: 1656.90\n"
          ],
          "name": "stdout"
        }
      ]
    },
    {
      "cell_type": "code",
      "metadata": {
        "id": "HCTg1oAX9yPi",
        "colab_type": "code",
        "colab": {}
      },
      "source": [
        "# set seed for reproducibility custom_set_seed(42)\n",
        "\n",
        "valid_ind = len(X) - valid_size\n",
        "\n",
        "X_tensor = torch.from_numpy(X).float()\n",
        "y_tensor = torch.from_numpy(y).float().unsqueeze(dim=1)\n",
        "\n",
        "dataset = TensorDataset(X_tensor, y_tensor)\n",
        "\n",
        "train_dataset = Subset(dataset, list(range(valid_ind)))\n",
        "valid_dataset = Subset(dataset, list(range(valid_ind, len(X))))\n",
        "\n",
        "train_loader = DataLoader(dataset=train_dataset, batch_size=BATCH_SIZE)\n",
        "valid_loader = DataLoader(dataset=valid_dataset, batch_size=BATCH_SIZE)"
      ],
      "execution_count": 0,
      "outputs": []
    },
    {
      "cell_type": "code",
      "metadata": {
        "id": "aUtg0HmB8bv_",
        "colab_type": "code",
        "colab": {
          "base_uri": "https://localhost:8080/",
          "height": 187
        },
        "outputId": "bfbac021-902c-470e-8a63-a336d4fae64f"
      },
      "source": [
        "class Flatten(nn.Module):\n",
        "    def forward(self, x):\n",
        "        return x.view(x.size()[0], -1)\n",
        "\n",
        "model = nn.Sequential(OrderedDict([\n",
        "    ('conv_1', nn.Conv1d(1, 32, 3, padding=1)),\n",
        "    ('max_pool_1', nn.MaxPool1d(2)),\n",
        "    ('relu_1', nn.ReLU()),\n",
        "    ('flatten', Flatten()),\n",
        "    ('fc_1', nn.Linear(192, 50)),\n",
        "    ('relu_2', nn.ReLU()),\n",
        "    ('dropout_1', nn.Dropout(0.4)),\n",
        "    ('fc_2', nn.Linear(50, 1))\n",
        "]))\n",
        "\n",
        "print(model)"
      ],
      "execution_count": 39,
      "outputs": [
        {
          "output_type": "stream",
          "text": [
            "Sequential(\n",
            "  (conv_1): Conv1d(1, 32, kernel_size=(3,), stride=(1,), padding=(1,))\n",
            "  (max_pool_1): MaxPool1d(kernel_size=2, stride=2, padding=0, dilation=1, ceil_mode=False)\n",
            "  (relu_1): ReLU()\n",
            "  (flatten): Flatten()\n",
            "  (fc_1): Linear(in_features=192, out_features=50, bias=True)\n",
            "  (relu_2): ReLU()\n",
            "  (dropout_1): Dropout(p=0.4, inplace=False)\n",
            "  (fc_2): Linear(in_features=50, out_features=1, bias=True)\n",
            ")\n"
          ],
          "name": "stdout"
        }
      ]
    },
    {
      "cell_type": "code",
      "metadata": {
        "id": "9Mp397Lu8msv",
        "colab_type": "code",
        "colab": {}
      },
      "source": [
        "model = model.to(device)\n",
        "loss_fn = nn.MSELoss()\n",
        "optimizer = optim.Adam(model.parameters(), lr=0.001)"
      ],
      "execution_count": 0,
      "outputs": []
    },
    {
      "cell_type": "code",
      "metadata": {
        "id": "3brTbkBv8uu4",
        "colab_type": "code",
        "colab": {
          "base_uri": "https://localhost:8080/",
          "height": 714
        },
        "outputId": "00dd6d05-588f-4e88-dcc9-c38d2ebed258"
      },
      "source": [
        "PRINT_EVERY = 50\n",
        "train_losses, valid_losses = [], []\n",
        "\n",
        "for epoch in range(N_EPOCHS):\n",
        "    running_loss_train = 0\n",
        "    running_loss_valid = 0\n",
        "\n",
        "    model.train()\n",
        "    \n",
        "    for x_batch, y_batch in train_loader:\n",
        "        \n",
        "        optimizer.zero_grad()\n",
        "        \n",
        "        x_batch = x_batch.to(device)\n",
        "        x_batch = x_batch.view(x_batch.shape[0], 1, N_LAGS)\n",
        "        y_batch = y_batch.to(device)\n",
        "        y_batch = y_batch.view(y_batch.shape[0], 1, 1)\n",
        "        y_hat = model(x_batch).view(y_batch.shape[0], 1, 1)\n",
        "        loss = torch.sqrt(loss_fn(y_batch, y_hat))\n",
        "        loss.backward()\n",
        "        optimizer.step()\n",
        "        running_loss_train += loss.item() * x_batch.size(0)\n",
        "        \n",
        "    epoch_loss_train = running_loss_train / len(train_loader.dataset)\n",
        "    train_losses.append(epoch_loss_train)\n",
        "\n",
        "    with torch.no_grad():\n",
        "        model.eval()\n",
        "        for x_val, y_val in valid_loader:\n",
        "            x_val = x_val.to(device)\n",
        "            x_val = x_val.view(x_val.shape[0], 1, N_LAGS)\n",
        "            y_val = y_val.to(device)\n",
        "            y_val = y_val.view(y_val.shape[0], 1, 1)\n",
        "            y_hat = model(x_val).view(y_val.shape[0], 1, 1)\n",
        "            loss = torch.sqrt(loss_fn(y_val, y_hat))\n",
        "            running_loss_valid += loss.item() * x_val.size(0)\n",
        "            \n",
        "        epoch_loss_valid = running_loss_valid / len(valid_loader.dataset)\n",
        "            \n",
        "        if epoch > 0 and epoch_loss_valid < min(valid_losses):\n",
        "            best_epoch = epoch\n",
        "            torch.save(model.state_dict(), './cnn_checkpoint.pth')\n",
        "            \n",
        "        valid_losses.append(epoch_loss_valid)\n",
        "\n",
        "    if epoch % PRINT_EVERY == 0:\n",
        "        print(f\"<{epoch}> – Train. loss: {epoch_loss_train:.6f} \\t Valid. loss: {epoch_loss_valid:.6f}\")\n",
        "        \n",
        "print(f'Lowest loss recorded in epoch: {best_epoch}')"
      ],
      "execution_count": 41,
      "outputs": [
        {
          "output_type": "stream",
          "text": [
            "<0> – Train. loss: 1719.068563 \t Valid. loss: 5797.997061\n",
            "<50> – Train. loss: 419.186747 \t Valid. loss: 1307.603352\n",
            "<100> – Train. loss: 508.458038 \t Valid. loss: 1473.669470\n",
            "<150> – Train. loss: 399.521327 \t Valid. loss: 1353.354738\n",
            "<200> – Train. loss: 550.533142 \t Valid. loss: 1677.413424\n",
            "<250> – Train. loss: 494.333822 \t Valid. loss: 1291.925693\n",
            "<300> – Train. loss: 291.826904 \t Valid. loss: 1303.208907\n",
            "<350> – Train. loss: 382.216553 \t Valid. loss: 1224.945898\n",
            "<400> – Train. loss: 511.613653 \t Valid. loss: 1194.472272\n",
            "<450> – Train. loss: 453.606257 \t Valid. loss: 1184.203704\n",
            "<500> – Train. loss: 283.189006 \t Valid. loss: 1304.500958\n",
            "<550> – Train. loss: 405.652908 \t Valid. loss: 1244.865099\n",
            "<600> – Train. loss: 342.009878 \t Valid. loss: 1228.905165\n",
            "<650> – Train. loss: 282.369593 \t Valid. loss: 1306.818682\n",
            "<700> – Train. loss: 361.726196 \t Valid. loss: 1176.605963\n",
            "<750> – Train. loss: 381.833689 \t Valid. loss: 1246.467189\n",
            "<800> – Train. loss: 460.520416 \t Valid. loss: 1365.562092\n",
            "<850> – Train. loss: 311.934092 \t Valid. loss: 1200.954717\n",
            "<900> – Train. loss: 384.706116 \t Valid. loss: 1193.300217\n",
            "<950> – Train. loss: 405.307322 \t Valid. loss: 1287.630122\n",
            "<1000> – Train. loss: 512.375193 \t Valid. loss: 1402.261948\n",
            "<1050> – Train. loss: 315.724991 \t Valid. loss: 1190.245016\n",
            "<1100> – Train. loss: 417.403554 \t Valid. loss: 1156.180554\n",
            "<1150> – Train. loss: 491.045431 \t Valid. loss: 1167.468759\n",
            "<1200> – Train. loss: 392.576604 \t Valid. loss: 1187.209875\n",
            "<1250> – Train. loss: 429.401560 \t Valid. loss: 1189.255384\n",
            "<1300> – Train. loss: 316.976456 \t Valid. loss: 1189.126333\n",
            "<1350> – Train. loss: 278.415049 \t Valid. loss: 1394.469970\n",
            "<1400> – Train. loss: 441.876297 \t Valid. loss: 1223.087283\n",
            "<1450> – Train. loss: 507.868510 \t Valid. loss: 1194.275867\n",
            "<1500> – Train. loss: 465.551910 \t Valid. loss: 1260.931127\n",
            "<1550> – Train. loss: 330.759277 \t Valid. loss: 1196.392044\n",
            "<1600> – Train. loss: 357.424377 \t Valid. loss: 1211.968453\n",
            "<1650> – Train. loss: 345.952006 \t Valid. loss: 1185.382815\n",
            "<1700> – Train. loss: 411.358510 \t Valid. loss: 1199.637611\n",
            "<1750> – Train. loss: 423.775431 \t Valid. loss: 1382.559460\n",
            "<1800> – Train. loss: 463.532903 \t Valid. loss: 1225.724294\n",
            "<1850> – Train. loss: 422.704203 \t Valid. loss: 1314.203664\n",
            "<1900> – Train. loss: 580.025716 \t Valid. loss: 1213.646097\n",
            "<1950> – Train. loss: 477.799062 \t Valid. loss: 1265.194289\n",
            "Lowest loss recorded in epoch: 1071\n"
          ],
          "name": "stdout"
        }
      ]
    },
    {
      "cell_type": "code",
      "metadata": {
        "id": "qBkNfG5n-WX-",
        "colab_type": "code",
        "colab": {
          "base_uri": "https://localhost:8080/",
          "height": 312
        },
        "outputId": "e570f7ad-839b-4dea-8adf-b0f8bd401397"
      },
      "source": [
        "train_losses = np.array(train_losses)\n",
        "valid_losses = np.array(valid_losses)\n",
        "\n",
        "fig, ax = plot.subplots()\n",
        "\n",
        "ax.plot(train_losses, color='blue', label='Training loss')\n",
        "ax.plot(valid_losses, color='red', label='Validation loss')\n",
        "\n",
        "ax.set(title=\"Loss over epochs\", xlabel='Epoch', ylabel='Loss')\n",
        "ax.legend()"
      ],
      "execution_count": 42,
      "outputs": [
        {
          "output_type": "execute_result",
          "data": {
            "text/plain": [
              "<matplotlib.legend.Legend at 0x7f1e40faa8d0>"
            ]
          },
          "metadata": {
            "tags": []
          },
          "execution_count": 42
        },
        {
          "output_type": "display_data",
          "data": {
            "image/png": "[encoded data removed]",
            "text/plain": [
              "<Figure size 432x288 with 1 Axes>"
            ]
          },
          "metadata": {
            "tags": [],
            "needs_background": "light"
          }
        }
      ]
    },
    {
      "cell_type": "code",
      "metadata": {
        "id": "dKDe-vCZ-0qJ",
        "colab_type": "code",
        "colab": {
          "base_uri": "https://localhost:8080/",
          "height": 34
        },
        "outputId": "257b68f1-d21a-4463-8331-33513faa153f"
      },
      "source": [
        "state_dict = torch.load('cnn_checkpoint.pth')\n",
        "model.load_state_dict(state_dict)"
      ],
      "execution_count": 43,
      "outputs": [
        {
          "output_type": "execute_result",
          "data": {
            "text/plain": [
              "<All keys matched successfully>"
            ]
          },
          "metadata": {
            "tags": []
          },
          "execution_count": 43
        }
      ]
    },
    {
      "cell_type": "code",
      "metadata": {
        "id": "0qqxMJhU-8e6",
        "colab_type": "code",
        "colab": {}
      },
      "source": [
        "y_pred, y_valid = [], []\n",
        "\n",
        "with torch.no_grad():\n",
        "    \n",
        "    model.eval()\n",
        "        \n",
        "    for x_val, y_val in valid_loader:\n",
        "        x_val = x_val.to(device)\n",
        "        x_val = x_val.view(x_val.shape[0], 1, N_LAGS)\n",
        "        y_pred.append(model(x_val))\n",
        "        y_valid.append(y_val)\n",
        "        \n",
        "y_pred = torch.cat(y_pred).numpy().flatten()\n",
        "y_valid = torch.cat(y_valid).numpy().flatten()"
      ],
      "execution_count": 0,
      "outputs": []
    },
    {
      "cell_type": "code",
      "metadata": {
        "id": "SmnTubfo_uru",
        "colab_type": "code",
        "colab": {
          "base_uri": "https://localhost:8080/",
          "height": 329
        },
        "outputId": "3dca4a36-a42f-4281-9cf8-ddc6edc30ff8"
      },
      "source": [
        "cnn_mse = mean_squared_error(y_valid, y_pred)\n",
        "cnn_rmse = np.sqrt(cnn_mse)\n",
        "print(f\"CNN's forecast – MSE: {cnn_mse:.2f}, RMSE: {cnn_rmse:.2f}\")\n",
        "\n",
        "fig, ax = plot.subplots()\n",
        "\n",
        "ax.plot(y_valid, color='blue', label='Actual')\n",
        "ax.plot(y_pred, color='red', label='Prediction')\n",
        "\n",
        "ax.set(title=\"CNN's Forecasts\", \n",
        "       xlabel='Time', \n",
        "       ylabel='Price ($)')\n",
        "ax.legend()"
      ],
      "execution_count": 46,
      "outputs": [
        {
          "output_type": "stream",
          "text": [
            "CNN's forecast – MSE: 3186248.50, RMSE: 1785.01\n"
          ],
          "name": "stdout"
        },
        {
          "output_type": "execute_result",
          "data": {
            "text/plain": [
              "<matplotlib.legend.Legend at 0x7f1e40aa1780>"
            ]
          },
          "metadata": {
            "tags": []
          },
          "execution_count": 46
        },
        {
          "output_type": "display_data",
          "data": {
            "image/png": "[encoded data removed]",
            "text/plain": [
              "<Figure size 432x288 with 1 Axes>"
            ]
          },
          "metadata": {
            "tags": [],
            "needs_background": "light"
          }
        }
      ]
    },
    {
      "cell_type": "markdown",
      "metadata": {
        "id": "6iHsNup_Bzuq",
        "colab_type": "text"
      },
      "source": [
        "# Redes Neuronales Recurrentes para prediccion de serie de tiempo (RNN 1D)"
      ]
    },
    {
      "cell_type": "markdown",
      "metadata": {
        "id": "k0ejTcUkCP5h",
        "colab_type": "text"
      },
      "source": [
        "## Carga de Librerias"
      ]
    },
    {
      "cell_type": "code",
      "metadata": {
        "id": "-vK-wsJ-CcnU",
        "colab_type": "code",
        "colab": {}
      },
      "source": [
        "import yfinance as yf\n",
        "import numpy as np\n",
        "\n",
        "import torch\n",
        "import torch.optim as optim\n",
        "import torch.nn as nn\n",
        "from torch.utils.data import (Dataset, TensorDataset, DataLoader, Subset)\n",
        "\n",
        "from sklearn.metrics import mean_squared_error\n",
        "from sklearn.preprocessing import MinMaxScaler\n",
        "\n",
        "device = 'cuda' if torch.cuda.is_available() else 'cpu'"
      ],
      "execution_count": 0,
      "outputs": []
    },
    {
      "cell_type": "markdown",
      "metadata": {
        "id": "iJ_zVkXzCSy7",
        "colab_type": "text"
      },
      "source": [
        "## RNN 1D"
      ]
    },
    {
      "cell_type": "code",
      "metadata": {
        "id": "ppe607GZCdhf",
        "colab_type": "code",
        "colab": {}
      },
      "source": [
        "# Bitcoin 2017\n",
        "TICKER = 'BTC-USD'\n",
        "START_DATE = '2017-01-01'\n",
        "END_DATE = '2017-12-31'\n",
        "VALID_START = '2017-07-01'\n",
        "N_LAGS = 12\n",
        "\n",
        "# red neuronal \n",
        "BATCH_SIZE = 16\n",
        "N_EPOCHS = 100"
      ],
      "execution_count": 0,
      "outputs": []
    },
    {
      "cell_type": "code",
      "metadata": {
        "id": "PZmul4SOC5w0",
        "colab_type": "code",
        "colab": {}
      },
      "source": [
        "df = yf.download(TICKER, start=START_DATE, end=END_DATE, progress=False)\n",
        "\n",
        "df = df.resample(\"W-MON\").last()\n",
        "valid_size = df.loc[VALID_START:END_DATE].shape[0]\n",
        "prices = df['Adj Close'].values.reshape(-1, 1)"
      ],
      "execution_count": 0,
      "outputs": []
    },
    {
      "cell_type": "code",
      "metadata": {
        "id": "SgSW7DJWDDSt",
        "colab_type": "code",
        "colab": {}
      },
      "source": [
        "valid_ind = len(prices) - valid_size\n",
        "\n",
        "minmax = MinMaxScaler(feature_range=(0, 1))\n",
        "\n",
        "prices_train = prices[:valid_ind]\n",
        "prices_valid = prices[valid_ind:]\n",
        "\n",
        "minmax.fit(prices_train)\n",
        "\n",
        "prices_train = minmax.transform(prices_train)\n",
        "prices_valid = minmax.transform(prices_valid)\n",
        "\n",
        "prices_scaled = np.concatenate((prices_train, prices_valid)).flatten()"
      ],
      "execution_count": 0,
      "outputs": []
    },
    {
      "cell_type": "code",
      "metadata": {
        "id": "TdZerHRWDLea",
        "colab_type": "code",
        "colab": {}
      },
      "source": [
        "X, y = create_input_data(prices_scaled, N_LAGS)"
      ],
      "execution_count": 0,
      "outputs": []
    },
    {
      "cell_type": "code",
      "metadata": {
        "id": "RMoOoXnjDQOa",
        "colab_type": "code",
        "colab": {
          "base_uri": "https://localhost:8080/",
          "height": 34
        },
        "outputId": "9dbf907f-8f81-4109-d007-0d49fc39a499"
      },
      "source": [
        "naive_pred = prices[len(prices)-valid_size-1:-1]\n",
        "y_valid = prices[len(prices)-valid_size:]\n",
        "\n",
        "naive_mse = mean_squared_error(y_valid, naive_pred)\n",
        "naive_rmse = np.sqrt(naive_mse)\n",
        "print(f\"Naive forecast – MSE: {naive_mse:.4f}, RMSE: {naive_rmse:.4f}\")"
      ],
      "execution_count": 52,
      "outputs": [
        {
          "output_type": "stream",
          "text": [
            "Naive forecast – MSE: 2745303.2071, RMSE: 1656.8957\n"
          ],
          "name": "stdout"
        }
      ]
    },
    {
      "cell_type": "code",
      "metadata": {
        "id": "w6UddeN1DX_Q",
        "colab_type": "code",
        "colab": {}
      },
      "source": [
        "# set seed for reproducibility custom_set_seed(42)\n",
        "\n",
        "valid_ind = len(X) - valid_size\n",
        "\n",
        "X_tensor = torch.from_numpy(X).float().reshape(X.shape[0], X.shape[1], 1)\n",
        "y_tensor = torch.from_numpy(y).float().reshape(X.shape[0], 1)\n",
        "\n",
        "dataset = TensorDataset(X_tensor, y_tensor)\n",
        "\n",
        "train_dataset = Subset(dataset, list(range(valid_ind)))\n",
        "valid_dataset = Subset(dataset, list(range(valid_ind, len(X))))\n",
        "\n",
        "train_loader = DataLoader(dataset=train_dataset, batch_size=BATCH_SIZE, shuffle=True)\n",
        "valid_loader = DataLoader(dataset=valid_dataset, batch_size=BATCH_SIZE)\n"
      ],
      "execution_count": 0,
      "outputs": []
    },
    {
      "cell_type": "code",
      "metadata": {
        "id": "nCmsUs4XDpsE",
        "colab_type": "code",
        "colab": {}
      },
      "source": [
        "class RNN(nn.Module):\n",
        "    def __init__(self, input_size, hidden_size, n_layers, output_size):\n",
        "        super(RNN, self).__init__()\n",
        "        self.rnn = nn.RNN(input_size, hidden_size, \n",
        "                          n_layers, batch_first=True, \n",
        "                          nonlinearity='relu')\n",
        "        self.fc = nn.Linear(hidden_size, output_size)\n",
        "    \n",
        "    def forward(self, x):\n",
        "        output, _ = self.rnn(x)\n",
        "        output = self.fc(output[:,-1,:]) \n",
        "        return output"
      ],
      "execution_count": 0,
      "outputs": []
    },
    {
      "cell_type": "code",
      "metadata": {
        "id": "SSCWzcxvDvLy",
        "colab_type": "code",
        "colab": {}
      },
      "source": [
        "model = RNN(input_size=1, hidden_size=6, \n",
        "            n_layers=1, output_size=1).to(device)\n",
        "loss_fn = nn.MSELoss()\n",
        "optimizer = optim.Adam(model.parameters(), lr=0.001)"
      ],
      "execution_count": 0,
      "outputs": []
    },
    {
      "cell_type": "code",
      "metadata": {
        "id": "6PvEO4uGDz-u",
        "colab_type": "code",
        "colab": {
          "base_uri": "https://localhost:8080/",
          "height": 204
        },
        "outputId": "7ce8fba3-bbaf-4fd9-d24f-58760f57d149"
      },
      "source": [
        "PRINT_EVERY = 10\n",
        "train_losses, valid_losses = [], []\n",
        "\n",
        "for epoch in range(N_EPOCHS):\n",
        "    running_loss_train = 0\n",
        "    running_loss_valid = 0\n",
        "\n",
        "    model.train()\n",
        "    \n",
        "    for x_batch, y_batch in train_loader:\n",
        "        \n",
        "        optimizer.zero_grad()\n",
        "        \n",
        "        x_batch = x_batch.to(device)\n",
        "        y_batch = y_batch.to(device)\n",
        "        y_hat = model(x_batch)\n",
        "        loss = torch.sqrt(loss_fn(y_batch, y_hat))\n",
        "        loss.backward()\n",
        "        optimizer.step()\n",
        "        running_loss_train += loss.item() * x_batch.size(0)\n",
        "        \n",
        "    epoch_loss_train = running_loss_train / len(train_loader.dataset)\n",
        "    train_losses.append(epoch_loss_train)\n",
        "\n",
        "    with torch.no_grad():\n",
        "        model.eval()\n",
        "        for x_val, y_val in valid_loader:\n",
        "            x_val = x_val.to(device)\n",
        "            y_val = y_val.to(device)\n",
        "            y_hat = model(x_val)\n",
        "            loss = torch.sqrt(loss_fn(y_val, y_hat))\n",
        "            running_loss_valid += loss.item() * x_val.size(0)\n",
        "            \n",
        "        epoch_loss_valid = running_loss_valid / len(valid_loader.dataset)\n",
        "            \n",
        "        if epoch > 0 and epoch_loss_valid < min(valid_losses):\n",
        "            best_epoch = epoch\n",
        "            torch.save(model.state_dict(), './rnn_checkpoint.pth')\n",
        "            \n",
        "        valid_losses.append(epoch_loss_valid)\n",
        "\n",
        "    if epoch % PRINT_EVERY == 0:\n",
        "        print(f\"<{epoch}> – Train. loss: {epoch_loss_train:.4f} \\t Valid. loss: {epoch_loss_valid:.4f}\")\n",
        "        \n",
        "print(f'Lowest loss recorded in epoch: {best_epoch}')"
      ],
      "execution_count": 56,
      "outputs": [
        {
          "output_type": "stream",
          "text": [
            "<0> – Train. loss: 1.0882 \t Valid. loss: 3.3888\n",
            "<10> – Train. loss: 1.0579 \t Valid. loss: 3.3065\n",
            "<20> – Train. loss: 1.0237 \t Valid. loss: 3.2144\n",
            "<30> – Train. loss: 0.9858 \t Valid. loss: 3.1063\n",
            "<40> – Train. loss: 0.9428 \t Valid. loss: 2.9785\n",
            "<50> – Train. loss: 0.8920 \t Valid. loss: 2.8254\n",
            "<60> – Train. loss: 0.8392 \t Valid. loss: 2.6448\n",
            "<70> – Train. loss: 0.7706 \t Valid. loss: 2.4256\n",
            "<80> – Train. loss: 0.6833 \t Valid. loss: 2.1558\n",
            "<90> – Train. loss: 0.5684 \t Valid. loss: 1.8210\n",
            "Lowest loss recorded in epoch: 99\n"
          ],
          "name": "stdout"
        }
      ]
    },
    {
      "cell_type": "code",
      "metadata": {
        "id": "Ou1Z6KU3D-xA",
        "colab_type": "code",
        "colab": {
          "base_uri": "https://localhost:8080/",
          "height": 312
        },
        "outputId": "ae5319e8-38bf-4c66-abd6-169e6b0f3926"
      },
      "source": [
        "train_losses = np.array(train_losses)\n",
        "valid_losses = np.array(valid_losses)\n",
        "\n",
        "fig, ax = plot.subplots()\n",
        "\n",
        "ax.plot(train_losses, color='blue', label='Training loss')\n",
        "ax.plot(valid_losses, color='red', label='Validation loss')\n",
        "\n",
        "ax.set(title=\"Loss over epochs\", xlabel='Epoch', ylabel='Loss')\n",
        "ax.legend()"
      ],
      "execution_count": 57,
      "outputs": [
        {
          "output_type": "execute_result",
          "data": {
            "text/plain": [
              "<matplotlib.legend.Legend at 0x7f1e4021ad68>"
            ]
          },
          "metadata": {
            "tags": []
          },
          "execution_count": 57
        },
        {
          "output_type": "display_data",
          "data": {
            "image/png": "[encoded data removed]",
            "text/plain": [
              "<Figure size 432x288 with 1 Axes>"
            ]
          },
          "metadata": {
            "tags": [],
            "needs_background": "light"
          }
        }
      ]
    },
    {
      "cell_type": "code",
      "metadata": {
        "id": "5WlDlEjZERLN",
        "colab_type": "code",
        "colab": {
          "base_uri": "https://localhost:8080/",
          "height": 34
        },
        "outputId": "7a83eb4f-7b03-475a-8fd5-7259364eb1f2"
      },
      "source": [
        "state_dict = torch.load('rnn_checkpoint.pth')\n",
        "model.load_state_dict(state_dict)"
      ],
      "execution_count": 58,
      "outputs": [
        {
          "output_type": "execute_result",
          "data": {
            "text/plain": [
              "<All keys matched successfully>"
            ]
          },
          "metadata": {
            "tags": []
          },
          "execution_count": 58
        }
      ]
    },
    {
      "cell_type": "code",
      "metadata": {
        "id": "QNRv0cKjETlB",
        "colab_type": "code",
        "colab": {}
      },
      "source": [
        "y_pred = []\n",
        "\n",
        "with torch.no_grad():\n",
        "    \n",
        "    model.eval()\n",
        "    \n",
        "    for x_val, y_val in valid_loader:\n",
        "        x_val = x_val.to(device)\n",
        "        y_hat = model(x_val)\n",
        "        y_pred.append(y_hat)\n",
        "        \n",
        "y_pred = torch.cat(y_pred).numpy()\n",
        "y_pred = minmax.inverse_transform(y_pred).flatten()"
      ],
      "execution_count": 0,
      "outputs": []
    },
    {
      "cell_type": "code",
      "metadata": {
        "id": "z7J1A5ZbEY0L",
        "colab_type": "code",
        "colab": {
          "base_uri": "https://localhost:8080/",
          "height": 329
        },
        "outputId": "eaba53a4-8e44-43a0-c438-b769c3fd529f"
      },
      "source": [
        "rnn_mse = mean_squared_error(y_valid, y_pred, naive_pred)\n",
        "rnn_rmse = np.sqrt(cnn_mse)\n",
        "print(f\"RNN's forecast – MSE: {cnn_mse:.2f}, RMSE: {cnn_rmse:.2f}\")\n",
        "\n",
        "fig, ax = plot.subplots()\n",
        "\n",
        "ax.plot(y_valid, color='blue', label='Actual')\n",
        "ax.plot(y_pred, color='red', label='Prediction')\n",
        "ax.plot(naive_pred, color='green', label='Naive')\n",
        "\n",
        "ax.set(title=\"RNN's Forecasts\", \n",
        "       xlabel='Time', \n",
        "       ylabel='Price ($)')\n",
        "ax.legend()"
      ],
      "execution_count": 63,
      "outputs": [
        {
          "output_type": "stream",
          "text": [
            "RNN's forecast – MSE: 3186248.50, RMSE: 1785.01\n"
          ],
          "name": "stdout"
        },
        {
          "output_type": "execute_result",
          "data": {
            "text/plain": [
              "<matplotlib.legend.Legend at 0x7f1e3ff6f518>"
            ]
          },
          "metadata": {
            "tags": []
          },
          "execution_count": 63
        },
        {
          "output_type": "display_data",
          "data": {
            "image/png": "[encoded data removed]",
            "text/plain": [
              "<Figure size 432x288 with 1 Axes>"
            ]
          },
          "metadata": {
            "tags": [],
            "needs_background": "light"
          }
        }
      ]
    },
    {
      "cell_type": "markdown",
      "metadata": {
        "id": "KiAUizcyd3YX",
        "colab_type": "text"
      },
      "source": [
        "# Visualizaciones"
      ]
    },
    {
      "cell_type": "markdown",
      "metadata": {
        "id": "_Gb6zSTA8MvE",
        "colab_type": "text"
      },
      "source": [
        "## Grafico Serie de Tiempo\n",
        "Se puede constatar los estilos disponibles para los graficos"
      ]
    },
    {
      "cell_type": "code",
      "metadata": {
        "id": "DXkTQsUH8R4I",
        "colab_type": "code",
        "colab": {}
      },
      "source": [
        "print(plot.style.available)"
      ],
      "execution_count": 0,
      "outputs": []
    },
    {
      "cell_type": "code",
      "metadata": {
        "id": "kGta3HxT8YSF",
        "colab_type": "code",
        "colab": {}
      },
      "source": [
        "plot.style.use('bmh')\n",
        "fix, ax = plot.subplots(4,1, figsize=(15,15), sharex=True)\n",
        "\n",
        "BITCOIN2017.Adj_Close_2017.plot(ax=ax[0], color=['darkblue'])\n",
        "ax[0].set(title='Serie de Tiempo Bitcoin años 2017, 2018 y 2019', ylabel='Precio U$S')\n",
        "BITCOIN2018.Adj_Close_2018.plot(ax=ax[0], color=['green'])\n",
        "BITCOIN2019.Adj_Close_2019.plot(ax=ax[0], color=['purple'])\n",
        "ax[0].legend(loc='upper left')\n",
        "BITCOIN2017.Return_2017.plot(ax=ax[1], color=['darkblue'])\n",
        "ax[1].set(ylabel='Retorno 2017')\n",
        "ax[1].legend(loc='upper left')\n",
        "BITCOIN2018.Return_2018.plot(ax=ax[2], color=['green'])\n",
        "ax[2].set(ylabel='Retorno 2018')\n",
        "ax[2].legend(loc='upper left')\n",
        "BITCOIN2019.Return_2019.plot(ax=ax[3], color=['purple'])\n",
        "ax[3].set(ylabel='Retorno 2019')\n",
        "ax[3].legend(loc='upper left')"
      ],
      "execution_count": 0,
      "outputs": []
    },
    {
      "cell_type": "markdown",
      "metadata": {
        "id": "bc8Dk0iH0vco",
        "colab_type": "text"
      },
      "source": [
        "## Histograma y Q-Q Plot"
      ]
    },
    {
      "cell_type": "code",
      "metadata": {
        "id": "t9lrcc_mIgjb",
        "colab_type": "code",
        "colab": {}
      },
      "source": [
        "plot.style.use('bmh')\n",
        "fig, ax = plot.subplots(1, 2, figsize=(15, 6))\n",
        "\n",
        "# Histograma 2017\n",
        "sns.distplot(BITCOIN2017.Return_2017, kde=False, norm_hist=True, ax=ax[0]) \n",
        "ax[0].set_title('Distribución de retornos BITCOIN 2017', fontsize=16) \n",
        "ax[0].plot(rango2017, norm_pdf2017, 'g', lw=2, label=f'N({media2017:.2f}, {desviacion2017**2:.4f})')\n",
        "ax[0].legend(loc='upper left');\n",
        "\n",
        "# Q-Q plot 2017\n",
        "qq = sm.qqplot(BITCOIN2017.Adj_Close_2017.values, line='s', ax=ax[1])\n",
        "ax[1].set_title('Q-Q plot Precio de Cierre Adjustado', fontsize = 16)"
      ],
      "execution_count": 0,
      "outputs": []
    },
    {
      "cell_type": "code",
      "metadata": {
        "id": "mN1MHb1fJ171",
        "colab_type": "code",
        "colab": {}
      },
      "source": [
        "plot.style.use('bmh')\n",
        "fig, ax = plot.subplots(1, 2, figsize=(15, 6))\n",
        "\n",
        "# Histograma 2018\n",
        "sns.distplot(BITCOIN2018.Return_2018, kde=False, norm_hist=True, ax=ax[0]) \n",
        "ax[0].set_title('Distribución de retornos BITCOIN 2018', fontsize=16) \n",
        "ax[0].plot(rango2018, norm_pdf2018, 'g', lw=2, label=f'N({media2018:.2f}, {desviacion2018**2:.4f})')\n",
        "ax[0].legend(loc='upper left');\n",
        "\n",
        "# Q-Q plot 2018\n",
        "qq = sm.qqplot(BITCOIN2018.Adj_Close_2018.values, line='s', ax=ax[1])\n",
        "ax[1].set_title('Q-Q plot Precio de Cierre Adjustado', fontsize = 16)"
      ],
      "execution_count": 0,
      "outputs": []
    },
    {
      "cell_type": "code",
      "metadata": {
        "id": "BNP2fWDAKR1y",
        "colab_type": "code",
        "colab": {}
      },
      "source": [
        "plot.style.use('bmh')\n",
        "fig, ax = plot.subplots(1, 2, figsize=(15, 6))\n",
        "\n",
        "# Histograma 2019\n",
        "sns.distplot(BITCOIN2019.Return_2019, kde=False, norm_hist=True, ax=ax[0]) \n",
        "ax[0].set_title('Distribución de retornos BITCOIN 2019', fontsize=16) \n",
        "ax[0].plot(rango2019, norm_pdf2019, 'g', lw=2, label=f'N({media2019:.2f}, {desviacion2019**2:.4f})')\n",
        "ax[0].legend(loc='upper left');\n",
        "\n",
        "# Q-Q plot 2019\n",
        "qq = sm.qqplot(BITCOIN2019.Adj_Close_2019.values, line='s', ax=ax[1])\n",
        "ax[1].set_title('Q-Q plot Precio de Cierre Adjustado', fontsize = 16)"
      ],
      "execution_count": 0,
      "outputs": []
    },
    {
      "cell_type": "markdown",
      "metadata": {
        "id": "-PdtpHNHSJGu",
        "colab_type": "text"
      },
      "source": [
        "# Simulación Monte Carlo"
      ]
    },
    {
      "cell_type": "code",
      "metadata": {
        "id": "bKcpUHgaTcvP",
        "colab_type": "code",
        "colab": {}
      },
      "source": [
        "pip install yfinance"
      ],
      "execution_count": 0,
      "outputs": []
    },
    {
      "cell_type": "code",
      "metadata": {
        "id": "WP9LJ_CtTJKi",
        "colab_type": "code",
        "colab": {}
      },
      "source": [
        "import statsmodels.api as sm\n",
        "import yfinance as yf"
      ],
      "execution_count": 0,
      "outputs": []
    },
    {
      "cell_type": "code",
      "metadata": {
        "id": "ocSA1PVvVn8s",
        "colab_type": "code",
        "colab": {}
      },
      "source": [
        "RISKY_ASSET = 'BTC-USD'\n",
        "START_DATE_2017 = '2017-01-01'\n",
        "END_DATE_2017 = '2017-12-31'\n",
        "START_DATE_2018 = '2018-01-01'\n",
        "END_DATE_2018 = '2018-12-31'\n",
        "START_DATE_2019 = '2019-01-01'\n",
        "END_DATE_2019 = '2019-12-31'"
      ],
      "execution_count": 0,
      "outputs": []
    },
    {
      "cell_type": "markdown",
      "metadata": {
        "id": "JDF-Lx_EUYnP",
        "colab_type": "text"
      },
      "source": [
        "## Series temporales 2017, 2018 y 2019"
      ]
    },
    {
      "cell_type": "code",
      "metadata": {
        "id": "kHIo64_uWPrn",
        "colab_type": "code",
        "colab": {}
      },
      "source": [
        "df2017 = yf.download(RISKY_ASSET, start=START_DATE_2017, end=END_DATE_2017, adjusted=True)\n",
        "df2018 = yf.download(RISKY_ASSET, start=START_DATE_2018, end=END_DATE_2018, adjusted=True)\n",
        "df2019 = yf.download(RISKY_ASSET, start=START_DATE_2019, end=END_DATE_2019, adjusted=True)"
      ],
      "execution_count": 0,
      "outputs": []
    },
    {
      "cell_type": "code",
      "metadata": {
        "id": "8umg_2BvbiAz",
        "colab_type": "code",
        "colab": {}
      },
      "source": [
        "df2017.rename(columns={'Adj Close':'Adj_Close_2017'}, inplace=True)\n",
        "df2018.rename(columns={'Adj Close':'Adj_Close_2018'}, inplace=True)\n",
        "df2019.rename(columns={'Adj Close':'Adj_Close_2019'}, inplace=True)\n"
      ],
      "execution_count": 0,
      "outputs": []
    },
    {
      "cell_type": "code",
      "metadata": {
        "id": "ClWdOZN6W3Iq",
        "colab_type": "code",
        "colab": {}
      },
      "source": [
        "adj_close_2017 = df2017['Adj_Close_2017']\n",
        "adj_close_2018 = df2018['Adj_Close_2018']\n",
        "adj_close_2019 = df2019['Adj_Close_2019']\n",
        "returns2017 = adj_close_2017.pct_change().dropna()\n",
        "returns2018 = adj_close_2018.pct_change().dropna()\n",
        "returns2019 = adj_close_2019.pct_change().dropna()\n",
        "print(f'Average return 2017: {100 * returns2017.mean():.2f}%')\n",
        "print(f'Average return 2018: {100 * returns2018.mean():.2f}%')\n",
        "print(f'Average return 2019: {100 * returns2019.mean():.2f}%')\n",
        "returns2017.plot(figsize=[18, 6], color=['darkblue'])\n",
        "returns2018.plot(figsize=[18, 6], color=['green'])\n",
        "returns2019.plot(title=f'{RISKY_ASSET} retornos: {START_DATE_2017} - {END_DATE_2019}', figsize=[18, 6], color=['purple']).legend(loc='upper left')"
      ],
      "execution_count": 0,
      "outputs": []
    },
    {
      "cell_type": "markdown",
      "metadata": {
        "id": "NHn7ZwUkcdyS",
        "colab_type": "text"
      },
      "source": [
        "## Simulacion para el ejercicio 2017"
      ]
    },
    {
      "cell_type": "code",
      "metadata": {
        "id": "LKLAu1C-c5kO",
        "colab_type": "code",
        "colab": {}
      },
      "source": [
        "train = returns2017['2017-01-01':'2017-06-30']\n",
        "test = returns2017['2017-07-01':'2017-12-31']\n",
        "T = len(test)\n",
        "N = len(test)\n",
        "S_0 = adj_close_2017[train.index[-1].date()]\n",
        "N_SIM = 50\n",
        "mu = train.mean()\n",
        "sigma = train.std()\n",
        "def simulate_gbm(s_0, mu, sigma, n_sims, T, N):\n",
        "    dt = T/N\n",
        "    dW = np.random.normal(scale = np.sqrt(dt), size=(n_sims, N))\n",
        "    W = np.cumsum(dW, axis=1)\n",
        "    time_step = np.linspace(dt, T, N)\n",
        "    time_steps = np.broadcast_to(time_step, (n_sims, N))\n",
        "    S_t = s_0 * np.exp((mu - 0.5 * sigma ** 2) * time_steps + sigma * W)\n",
        "    S_t = np.insert(S_t, 0, s_0, axis=1)\n",
        "    return S_t\n",
        "gbm_simulations = simulate_gbm(S_0, mu, sigma, N_SIM, T, N)\n",
        "# Parametros para el gráfico \n",
        "LAST_TRAIN_DATE = train.index[-1].date()\n",
        "FIRST_TEST_DATE = test.index[0].date()\n",
        "LAST_TEST_DATE = test.index[-1].date()\n",
        "PLOT_TITLE = (f'{RISKY_ASSET} Simulacion 2017 'f'({FIRST_TEST_DATE}:{LAST_TEST_DATE})')\n",
        "selected_indices = adj_close_2017[LAST_TRAIN_DATE:LAST_TEST_DATE].index\n",
        "index = [date.date() for date in selected_indices]\n",
        "\n",
        "gbm_simulations_df = pd.DataFrame(np.transpose(gbm_simulations), index=index)\n",
        "\n",
        "# Grafico\n",
        "ax = gbm_simulations_df.plot(alpha=0.2, legend=False, figsize=[16, 8])\n",
        "line_1, = ax.plot(index, gbm_simulations_df.mean(axis=1), color='fuchsia')\n",
        "line_2, = ax.plot(index, adj_close_2017[LAST_TRAIN_DATE:LAST_TEST_DATE], color='darkblue')\n",
        "ax.set_title(PLOT_TITLE, fontsize=16)\n",
        "ax.legend((line_1, line_2), ('media simulacion', 'cierre adjustado'))"
      ],
      "execution_count": 0,
      "outputs": []
    },
    {
      "cell_type": "markdown",
      "metadata": {
        "id": "5cNZmJVlgLVt",
        "colab_type": "text"
      },
      "source": [
        "## Simulacion para el ejercicio 2018"
      ]
    },
    {
      "cell_type": "code",
      "metadata": {
        "id": "CJe4POapgRKC",
        "colab_type": "code",
        "colab": {}
      },
      "source": [
        "train = returns2018['2018-01-01':'2018-06-30']\n",
        "test = returns2018['2018-07-01':'2018-12-31']\n",
        "T = len(test)\n",
        "N = len(test)\n",
        "S_0 = adj_close_2018[train.index[-1].date()]\n",
        "N_SIM = 50\n",
        "mu = train.mean()\n",
        "sigma = train.std()\n",
        "def simulate_gbm(s_0, mu, sigma, n_sims, T, N):\n",
        "    dt = T/N\n",
        "    dW = np.random.normal(scale = np.sqrt(dt), size=(n_sims, N))\n",
        "    W = np.cumsum(dW, axis=1)\n",
        "    time_step = np.linspace(dt, T, N)\n",
        "    time_steps = np.broadcast_to(time_step, (n_sims, N))\n",
        "    S_t = s_0 * np.exp((mu - 0.5 * sigma ** 2) * time_steps + sigma * W)\n",
        "    S_t = np.insert(S_t, 0, s_0, axis=1)\n",
        "    return S_t\n",
        "gbm_simulations = simulate_gbm(S_0, mu, sigma, N_SIM, T, N)\n",
        "# Parametros para el gráfico \n",
        "LAST_TRAIN_DATE = train.index[-1].date()\n",
        "FIRST_TEST_DATE = test.index[0].date()\n",
        "LAST_TEST_DATE = test.index[-1].date()\n",
        "PLOT_TITLE = (f'{RISKY_ASSET} Simulacion 2018 'f'({FIRST_TEST_DATE}:{LAST_TEST_DATE})')\n",
        "selected_indices = adj_close_2018[LAST_TRAIN_DATE:LAST_TEST_DATE].index\n",
        "index = [date.date() for date in selected_indices]\n",
        "\n",
        "gbm_simulations_df = pd.DataFrame(np.transpose(gbm_simulations), index=index)\n",
        "\n",
        "# Grafico\n",
        "ax = gbm_simulations_df.plot(alpha=0.2, legend=False, figsize=[16, 8])\n",
        "line_1, = ax.plot(index, gbm_simulations_df.mean(axis=1), color='fuchsia')\n",
        "line_2, = ax.plot(index, adj_close_2018[LAST_TRAIN_DATE:LAST_TEST_DATE], color='green')\n",
        "ax.set_title(PLOT_TITLE, fontsize=16)\n",
        "ax.legend((line_1, line_2), ('media simulacion', 'cierre adjustado'))"
      ],
      "execution_count": 0,
      "outputs": []
    },
    {
      "cell_type": "markdown",
      "metadata": {
        "id": "DQI9inudhLKi",
        "colab_type": "text"
      },
      "source": [
        "## Simulacion para el ejercicio 2019"
      ]
    },
    {
      "cell_type": "code",
      "metadata": {
        "id": "bhKBHJAEhRqu",
        "colab_type": "code",
        "colab": {}
      },
      "source": [
        "train = returns2019['2019-01-01':'2019-06-30']\n",
        "test = returns2019['2019-07-01':'2019-12-31']\n",
        "T = len(test)\n",
        "N = len(test)\n",
        "S_0 = adj_close_2019[train.index[-1].date()]\n",
        "N_SIM = 50\n",
        "mu = train.mean()\n",
        "sigma = train.std()\n",
        "def simulate_gbm(s_0, mu, sigma, n_sims, T, N):\n",
        "    dt = T/N\n",
        "    dW = np.random.normal(scale = np.sqrt(dt), size=(n_sims, N))\n",
        "    W = np.cumsum(dW, axis=1)\n",
        "    time_step = np.linspace(dt, T, N)\n",
        "    time_steps = np.broadcast_to(time_step, (n_sims, N))\n",
        "    S_t = s_0 * np.exp((mu - 0.5 * sigma ** 2) * time_steps + sigma * W)\n",
        "    S_t = np.insert(S_t, 0, s_0, axis=1)\n",
        "    return S_t\n",
        "gbm_simulations = simulate_gbm(S_0, mu, sigma, N_SIM, T, N)\n",
        "# Parametros para el gráfico \n",
        "LAST_TRAIN_DATE = train.index[-1].date()\n",
        "FIRST_TEST_DATE = test.index[0].date()\n",
        "LAST_TEST_DATE = test.index[-1].date()\n",
        "PLOT_TITLE = (f'{RISKY_ASSET} Simulacion 2019 'f'({FIRST_TEST_DATE}:{LAST_TEST_DATE})')\n",
        "selected_indices = adj_close_2019[LAST_TRAIN_DATE:LAST_TEST_DATE].index\n",
        "index = [date.date() for date in selected_indices]\n",
        "\n",
        "gbm_simulations_df = pd.DataFrame(np.transpose(gbm_simulations), index=index)\n",
        "\n",
        "# Grafico\n",
        "ax = gbm_simulations_df.plot(alpha=0.2, legend=False, figsize=[16, 8])\n",
        "line_1, = ax.plot(index, gbm_simulations_df.mean(axis=1), color='fuchsia')\n",
        "line_2, = ax.plot(index, adj_close_2019[LAST_TRAIN_DATE:LAST_TEST_DATE], color='purple')\n",
        "ax.set_title(PLOT_TITLE, fontsize=16)\n",
        "ax.legend((line_1, line_2), ('media simulacion', 'cierre adjustado'))"
      ],
      "execution_count": 0,
      "outputs": []
    }
  ]
}