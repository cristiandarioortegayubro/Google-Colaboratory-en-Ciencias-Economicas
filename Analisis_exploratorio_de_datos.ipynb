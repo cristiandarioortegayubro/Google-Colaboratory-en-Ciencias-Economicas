{
  "nbformat": 4,
  "nbformat_minor": 0,
  "metadata": {
    "colab": {
      "name": "Analisis exploratorio de datos.ipynb",
      "provenance": [],
      "authorship_tag": "ABX9TyPNR3JjCC5PJnTvpr+B5giT",
      "include_colab_link": true
    },
    "kernelspec": {
      "name": "python3",
      "display_name": "Python 3"
    },
    "accelerator": "GPU"
  },
  "cells": [
    {
      "cell_type": "markdown",
      "metadata": {
        "id": "view-in-github",
        "colab_type": "text"
      },
      "source": [
        "<a href=\"https://colab.research.google.com/github/cristiandarioortegayubro/Google-Colaboratory-en-Ciencias-Economicas/blob/master/Analisis_exploratorio_de_datos.ipynb\" target=\"_parent\"><img src=\"https://colab.research.google.com/assets/colab-badge.svg\" alt=\"Open In Colab\"/></a>"
      ]
    },
    {
      "cell_type": "markdown",
      "metadata": {
        "id": "aqBxjFRm46D2",
        "colab_type": "text"
      },
      "source": [
        "# Análisis exploratorio de datos"
      ]
    },
    {
      "cell_type": "markdown",
      "metadata": {
        "id": "wCj71glw49vO",
        "colab_type": "text"
      },
      "source": [
        "## Carga de librerias\n",
        "Se utilizan las librerias: pandas para cálculos con dataframe, datareader para obtener datos de fuente externa, datetime para trabajar con las fechas, matplotlib para los primeros gráficos y numpy para cálculos matemáticos más avanzados."
      ]
    },
    {
      "cell_type": "code",
      "metadata": {
        "id": "qKwU4sJY403B",
        "colab_type": "code",
        "colab": {}
      },
      "source": [
        "import pandas as pd\n",
        "import pandas_datareader as data\n",
        "import datetime as dt\n",
        "import matplotlib.pyplot as plot\n",
        "import numpy as np"
      ],
      "execution_count": 0,
      "outputs": []
    },
    {
      "cell_type": "markdown",
      "metadata": {
        "id": "SD8vCeSD5a62",
        "colab_type": "text"
      },
      "source": [
        "## Obtencion de los datos por ejercicios \n",
        "Se crean conjuntos de datos denominados BTC por Bitcoin para cada uno de los ejercicios, obteniendo los datos desde yahoo finanzas. En este caso se decide trabajar por año para el mismo activo digital, pero podría haber sido tambien comparar diferentes criptodivisas, ya que de la visualización de las gráficas se puede constatar que presentan el mismo comportamiento."
      ]
    },
    {
      "cell_type": "code",
      "metadata": {
        "id": "uPbeuqjn5c9X",
        "colab_type": "code",
        "colab": {}
      },
      "source": [
        "BTC2015 = data.DataReader(\"BTC-USD\", start='2015-01-01', end='2015-12-31', data_source='yahoo')\n",
        "BTC2016 = data.DataReader(\"BTC-USD\", start='2016-01-01', end='2016-12-31', data_source='yahoo')\n",
        "BTC2017 = data.DataReader(\"BTC-USD\", start='2017-01-01', end='2017-12-31', data_source='yahoo')\n",
        "BTC2018 = data.DataReader(\"BTC-USD\", start='2018-01-01', end='2018-12-31', data_source='yahoo')\n",
        "BTC2019 = data.DataReader(\"BTC-USD\", start='2019-01-01', end='2019-12-31', data_source='yahoo')"
      ],
      "execution_count": 0,
      "outputs": []
    },
    {
      "cell_type": "markdown",
      "metadata": {
        "id": "_N_9Fi-B5xOp",
        "colab_type": "text"
      },
      "source": [
        "## Creando dataframe y realizando limpieza y transformacion de los datos"
      ]
    },
    {
      "cell_type": "markdown",
      "metadata": {
        "id": "nOkHbu7N7T4f",
        "colab_type": "text"
      },
      "source": [
        "### Dataframe por cada uno de los años"
      ]
    },
    {
      "cell_type": "code",
      "metadata": {
        "id": "esc6NJOM55RZ",
        "colab_type": "code",
        "colab": {}
      },
      "source": [
        "BITCOIN2015 = pd.DataFrame(BTC2015)\n",
        "BITCOIN2016 = pd.DataFrame(BTC2016)\n",
        "BITCOIN2017 = pd.DataFrame(BTC2017)\n",
        "BITCOIN2018 = pd.DataFrame(BTC2018)\n",
        "BITCOIN2019 = pd.DataFrame(BTC2019)"
      ],
      "execution_count": 0,
      "outputs": []
    },
    {
      "cell_type": "markdown",
      "metadata": {
        "id": "dohHUiJM8GHU",
        "colab_type": "text"
      },
      "source": [
        "Se consulta la cantidad de filas y columnas por cada dataset correspondiente a cada año"
      ]
    },
    {
      "cell_type": "code",
      "metadata": {
        "id": "Z7OodU776GSE",
        "colab_type": "code",
        "outputId": "546286aa-cd75-483d-e347-2a39a8de4e0b",
        "colab": {
          "base_uri": "https://localhost:8080/",
          "height": 34
        }
      },
      "source": [
        "BITCOIN2015.shape"
      ],
      "execution_count": 5,
      "outputs": [
        {
          "output_type": "execute_result",
          "data": {
            "text/plain": [
              "(366, 6)"
            ]
          },
          "metadata": {
            "tags": []
          },
          "execution_count": 5
        }
      ]
    },
    {
      "cell_type": "code",
      "metadata": {
        "id": "XL9mA5_O8Z-Y",
        "colab_type": "code",
        "colab": {
          "base_uri": "https://localhost:8080/",
          "height": 34
        },
        "outputId": "59b4bb6b-6383-4938-8354-51c3b17a299d"
      },
      "source": [
        "BITCOIN2016.shape"
      ],
      "execution_count": 6,
      "outputs": [
        {
          "output_type": "execute_result",
          "data": {
            "text/plain": [
              "(367, 6)"
            ]
          },
          "metadata": {
            "tags": []
          },
          "execution_count": 6
        }
      ]
    },
    {
      "cell_type": "code",
      "metadata": {
        "id": "7ShIRmDj8cRb",
        "colab_type": "code",
        "colab": {
          "base_uri": "https://localhost:8080/",
          "height": 34
        },
        "outputId": "422f9290-e2d2-4bba-ba00-11b60d762228"
      },
      "source": [
        "BITCOIN2017.shape"
      ],
      "execution_count": 7,
      "outputs": [
        {
          "output_type": "execute_result",
          "data": {
            "text/plain": [
              "(366, 6)"
            ]
          },
          "metadata": {
            "tags": []
          },
          "execution_count": 7
        }
      ]
    },
    {
      "cell_type": "code",
      "metadata": {
        "id": "zhj-VbOT8ec5",
        "colab_type": "code",
        "colab": {
          "base_uri": "https://localhost:8080/",
          "height": 34
        },
        "outputId": "b0e53c9c-9589-4e9a-fc23-85197dfb8c12"
      },
      "source": [
        "BITCOIN2018.shape"
      ],
      "execution_count": 8,
      "outputs": [
        {
          "output_type": "execute_result",
          "data": {
            "text/plain": [
              "(366, 6)"
            ]
          },
          "metadata": {
            "tags": []
          },
          "execution_count": 8
        }
      ]
    },
    {
      "cell_type": "code",
      "metadata": {
        "id": "uqeimKe58hxn",
        "colab_type": "code",
        "colab": {
          "base_uri": "https://localhost:8080/",
          "height": 34
        },
        "outputId": "f58c4036-aa53-4774-8da7-da75cb157ba8"
      },
      "source": [
        "BITCOIN2019.shape"
      ],
      "execution_count": 9,
      "outputs": [
        {
          "output_type": "execute_result",
          "data": {
            "text/plain": [
              "(366, 6)"
            ]
          },
          "metadata": {
            "tags": []
          },
          "execution_count": 9
        }
      ]
    },
    {
      "cell_type": "markdown",
      "metadata": {
        "id": "t-5Tc1FD_wng",
        "colab_type": "text"
      },
      "source": [
        "Ahora vamos a visualizar uno de los datasets creados, el correspondiente al ejercicio 2019, en el cual ya se sabe por el comando shape que contiene 366 filas y 6 columnas."
      ]
    },
    {
      "cell_type": "code",
      "metadata": {
        "id": "PgN0kJfW_8XV",
        "colab_type": "code",
        "colab": {
          "base_uri": "https://localhost:8080/",
          "height": 272
        },
        "outputId": "d3a914fa-900b-4e35-a005-d6d1414d13d4"
      },
      "source": [
        "print(BITCOIN2019)"
      ],
      "execution_count": 10,
      "outputs": [
        {
          "output_type": "stream",
          "text": [
            "                   High          Low  ...       Volume    Adj Close\n",
            "Date                                  ...                          \n",
            "2019-01-01  3850.913818  3707.231201  ...   4324200990  3843.520020\n",
            "2019-01-02  3947.981201  3817.409424  ...   5244856835  3943.409424\n",
            "2019-01-03  3935.685059  3826.222900  ...   4530215218  3836.741211\n",
            "2019-01-04  3865.934570  3783.853760  ...   4847965467  3857.717529\n",
            "2019-01-05  3904.903076  3836.900146  ...   5137609823  3845.194580\n",
            "...                 ...          ...  ...          ...          ...\n",
            "2019-12-28  7399.041016  7286.905273  ...  21365673026  7317.990234\n",
            "2019-12-29  7513.948242  7279.865234  ...  22445257701  7422.652832\n",
            "2019-12-30  7454.824219  7276.308105  ...  22874131671  7292.995117\n",
            "2019-12-31  7335.290039  7169.777832  ...  21167946112  7193.599121\n",
            "2020-01-01  7254.330566  7174.944336  ...  18565664996  7200.174316\n",
            "\n",
            "[366 rows x 6 columns]\n"
          ],
          "name": "stdout"
        }
      ]
    },
    {
      "cell_type": "markdown",
      "metadata": {
        "id": "Y5DIyl-jABV4",
        "colab_type": "text"
      },
      "source": [
        "Se puede observar que los nombres de las distintas filas fueron consignados con la fecha de cada uno de los registros de cotización del Bitcoin, se procede a continuación a crear la columna Date, renombrar los nombres de las filas, y crear la variable Day con el nombre del día tomando ese dato desde la columna Date."
      ]
    },
    {
      "cell_type": "markdown",
      "metadata": {
        "id": "3AoOuCHyBbvW",
        "colab_type": "text"
      },
      "source": [
        ""
      ]
    },
    {
      "cell_type": "markdown",
      "metadata": {
        "id": "piFbwbQJ8sZp",
        "colab_type": "text"
      },
      "source": [
        "### Transformando datos del dataset"
      ]
    },
    {
      "cell_type": "code",
      "metadata": {
        "id": "FsVVdPz16MkB",
        "colab_type": "code",
        "colab": {}
      },
      "source": [
        "DATE2015 = BITCOIN2015.index.values\n",
        "DATE2016 = BITCOIN2016.index.values\n",
        "DATE2017 = BITCOIN2017.index.values\n",
        "DATE2018 = BITCOIN2018.index.values\n",
        "DATE2019 = BITCOIN2019.index.values"
      ],
      "execution_count": 0,
      "outputs": []
    },
    {
      "cell_type": "markdown",
      "metadata": {
        "id": "Z6oQtHIIA5p1",
        "colab_type": "text"
      },
      "source": [
        "De esta forma se genera la variable \"Date\" por cada año, tomando el valor del index (nombre de las filas) para luego volcar esos valores a una nueva columna"
      ]
    },
    {
      "cell_type": "code",
      "metadata": {
        "id": "YLuJm1sS6ZTw",
        "colab_type": "code",
        "colab": {}
      },
      "source": [
        "BITCOIN2015.insert(0, column='Date', value=DATE2015)\n",
        "BITCOIN2016.insert(0, column='Date', value=DATE2016)\n",
        "BITCOIN2017.insert(0, column='Date', value=DATE2017)\n",
        "BITCOIN2018.insert(0, column='Date', value=DATE2018)\n",
        "BITCOIN2019.insert(0, column='Date', value=DATE2019)"
      ],
      "execution_count": 0,
      "outputs": []
    },
    {
      "cell_type": "markdown",
      "metadata": {
        "id": "OvwcQvGBB9jC",
        "colab_type": "text"
      },
      "source": [
        "Con el codigo se agrega la columna Date en primera posición tomando los valores de las variables creadas anteriormente, para cada dataset de cada año analizado. A continuación visualizamos el dataset del año 2019 para ver como esta quedando."
      ]
    },
    {
      "cell_type": "code",
      "metadata": {
        "id": "wG7lyQVh6iw5",
        "colab_type": "code",
        "outputId": "577f37f1-1f9c-44f5-c03a-be84f6f5757c",
        "colab": {
          "base_uri": "https://localhost:8080/",
          "height": 272
        }
      },
      "source": [
        "print(BITCOIN2019)"
      ],
      "execution_count": 13,
      "outputs": [
        {
          "output_type": "stream",
          "text": [
            "                 Date         High  ...       Volume    Adj Close\n",
            "Date                                ...                          \n",
            "2019-01-01 2019-01-01  3850.913818  ...   4324200990  3843.520020\n",
            "2019-01-02 2019-01-02  3947.981201  ...   5244856835  3943.409424\n",
            "2019-01-03 2019-01-03  3935.685059  ...   4530215218  3836.741211\n",
            "2019-01-04 2019-01-04  3865.934570  ...   4847965467  3857.717529\n",
            "2019-01-05 2019-01-05  3904.903076  ...   5137609823  3845.194580\n",
            "...               ...          ...  ...          ...          ...\n",
            "2019-12-28 2019-12-28  7399.041016  ...  21365673026  7317.990234\n",
            "2019-12-29 2019-12-29  7513.948242  ...  22445257701  7422.652832\n",
            "2019-12-30 2019-12-30  7454.824219  ...  22874131671  7292.995117\n",
            "2019-12-31 2019-12-31  7335.290039  ...  21167946112  7193.599121\n",
            "2020-01-01 2020-01-01  7254.330566  ...  18565664996  7200.174316\n",
            "\n",
            "[366 rows x 7 columns]\n"
          ],
          "name": "stdout"
        }
      ]
    },
    {
      "cell_type": "markdown",
      "metadata": {
        "id": "7qsMRTHZCQ-1",
        "colab_type": "text"
      },
      "source": [
        "Ahora tenemos siete columnas, porque se agregó la columna Date, pero se debe cambiar el nombre a las filas, lo que se hace de la siguiente forma:"
      ]
    },
    {
      "cell_type": "code",
      "metadata": {
        "id": "xPScA5tF6rcl",
        "colab_type": "code",
        "colab": {}
      },
      "source": [
        "BITCOIN2015.reset_index(drop=True, inplace=True)\n",
        "BITCOIN2016.reset_index(drop=True, inplace=True)\n",
        "BITCOIN2017.reset_index(drop=True, inplace=True)\n",
        "BITCOIN2018.reset_index(drop=True, inplace=True)\n",
        "BITCOIN2019.reset_index(drop=True, inplace=True)"
      ],
      "execution_count": 0,
      "outputs": []
    },
    {
      "cell_type": "markdown",
      "metadata": {
        "id": "RTvfuDzkClMr",
        "colab_type": "text"
      },
      "source": [
        "Y el dataframe presenta ahora el siguiente aspecto:"
      ]
    },
    {
      "cell_type": "code",
      "metadata": {
        "id": "xCytZHgN61bp",
        "colab_type": "code",
        "outputId": "0888ef27-9b13-4617-c14c-745ae240681c",
        "colab": {
          "base_uri": "https://localhost:8080/",
          "height": 255
        }
      },
      "source": [
        "print(BITCOIN2019)"
      ],
      "execution_count": 15,
      "outputs": [
        {
          "output_type": "stream",
          "text": [
            "          Date         High          Low  ...        Close       Volume    Adj Close\n",
            "0   2019-01-01  3850.913818  3707.231201  ...  3843.520020   4324200990  3843.520020\n",
            "1   2019-01-02  3947.981201  3817.409424  ...  3943.409424   5244856835  3943.409424\n",
            "2   2019-01-03  3935.685059  3826.222900  ...  3836.741211   4530215218  3836.741211\n",
            "3   2019-01-04  3865.934570  3783.853760  ...  3857.717529   4847965467  3857.717529\n",
            "4   2019-01-05  3904.903076  3836.900146  ...  3845.194580   5137609823  3845.194580\n",
            "..         ...          ...          ...  ...          ...          ...          ...\n",
            "361 2019-12-28  7399.041016  7286.905273  ...  7317.990234  21365673026  7317.990234\n",
            "362 2019-12-29  7513.948242  7279.865234  ...  7422.652832  22445257701  7422.652832\n",
            "363 2019-12-30  7454.824219  7276.308105  ...  7292.995117  22874131671  7292.995117\n",
            "364 2019-12-31  7335.290039  7169.777832  ...  7193.599121  21167946112  7193.599121\n",
            "365 2020-01-01  7254.330566  7174.944336  ...  7200.174316  18565664996  7200.174316\n",
            "\n",
            "[366 rows x 7 columns]\n"
          ],
          "name": "stdout"
        }
      ]
    },
    {
      "cell_type": "markdown",
      "metadata": {
        "id": "ReMiw0RLCxvf",
        "colab_type": "text"
      },
      "source": [
        "### Creando datos para los diferentes datasets"
      ]
    },
    {
      "cell_type": "code",
      "metadata": {
        "id": "8qS6JlfN6_g7",
        "colab_type": "code",
        "colab": {}
      },
      "source": [
        "BITCOIN2015['Day']=pd.DatetimeIndex(BITCOIN2015['Date']).day_name()\n",
        "BITCOIN2016['Day']=pd.DatetimeIndex(BITCOIN2016['Date']).day_name()\n",
        "BITCOIN2017['Day']=pd.DatetimeIndex(BITCOIN2017['Date']).day_name()\n",
        "BITCOIN2018['Day']=pd.DatetimeIndex(BITCOIN2018['Date']).day_name()\n",
        "BITCOIN2019['Day']=pd.DatetimeIndex(BITCOIN2019['Date']).day_name()"
      ],
      "execution_count": 0,
      "outputs": []
    },
    {
      "cell_type": "code",
      "metadata": {
        "id": "TaCV8xZw7TQN",
        "colab_type": "code",
        "outputId": "789deae3-76f0-4bb7-9d7b-214bc24afac1",
        "colab": {
          "base_uri": "https://localhost:8080/",
          "height": 255
        }
      },
      "source": [
        "print(BITCOIN2019)"
      ],
      "execution_count": 17,
      "outputs": [
        {
          "output_type": "stream",
          "text": [
            "          Date         High          Low  ...       Volume    Adj Close        Day\n",
            "0   2019-01-01  3850.913818  3707.231201  ...   4324200990  3843.520020    Tuesday\n",
            "1   2019-01-02  3947.981201  3817.409424  ...   5244856835  3943.409424  Wednesday\n",
            "2   2019-01-03  3935.685059  3826.222900  ...   4530215218  3836.741211   Thursday\n",
            "3   2019-01-04  3865.934570  3783.853760  ...   4847965467  3857.717529     Friday\n",
            "4   2019-01-05  3904.903076  3836.900146  ...   5137609823  3845.194580   Saturday\n",
            "..         ...          ...          ...  ...          ...          ...        ...\n",
            "361 2019-12-28  7399.041016  7286.905273  ...  21365673026  7317.990234   Saturday\n",
            "362 2019-12-29  7513.948242  7279.865234  ...  22445257701  7422.652832     Sunday\n",
            "363 2019-12-30  7454.824219  7276.308105  ...  22874131671  7292.995117     Monday\n",
            "364 2019-12-31  7335.290039  7169.777832  ...  21167946112  7193.599121    Tuesday\n",
            "365 2020-01-01  7254.330566  7174.944336  ...  18565664996  7200.174316  Wednesday\n",
            "\n",
            "[366 rows x 8 columns]\n"
          ],
          "name": "stdout"
        }
      ]
    },
    {
      "cell_type": "markdown",
      "metadata": {
        "id": "ruk8EwwQDTBR",
        "colab_type": "text"
      },
      "source": [
        "Ahora tenemos 8 columnas en cada uno de los datasets porque tenemos la columna Day con el nombre del día correspondiente a la fecha de cotización registrada del Bitcoin."
      ]
    },
    {
      "cell_type": "markdown",
      "metadata": {
        "id": "7qvqkF1CDqo7",
        "colab_type": "text"
      },
      "source": [
        "### Cambiando el nombre de una columna de cada uno de los Datasets\n",
        "Ese cambio es necesario, porque algunos parámetros de algoritmos que se utilizarán no aceptan nonmbres de columnas de dos palabras, por eso se utiliza un guión bajo."
      ]
    },
    {
      "cell_type": "code",
      "metadata": {
        "id": "LxrSNpwB7fUz",
        "colab_type": "code",
        "colab": {}
      },
      "source": [
        "BITCOIN2015.rename(columns={'Adj Close':'Adj_Close'}, inplace=True)\n",
        "BITCOIN2016.rename(columns={'Adj Close':'Adj_Close'}, inplace=True)\n",
        "BITCOIN2017.rename(columns={'Adj Close':'Adj_Close'}, inplace=True)\n",
        "BITCOIN2018.rename(columns={'Adj Close':'Adj_Close'}, inplace=True)\n",
        "BITCOIN2019.rename(columns={'Adj Close':'Adj_Close'}, inplace=True)"
      ],
      "execution_count": 0,
      "outputs": []
    },
    {
      "cell_type": "code",
      "metadata": {
        "id": "sOG6y5Af7uE6",
        "colab_type": "code",
        "outputId": "8bb8ab9a-4923-417d-b648-c52514f74803",
        "colab": {
          "base_uri": "https://localhost:8080/",
          "height": 255
        }
      },
      "source": [
        "print(BITCOIN2019)"
      ],
      "execution_count": 19,
      "outputs": [
        {
          "output_type": "stream",
          "text": [
            "          Date         High          Low  ...       Volume    Adj_Close        Day\n",
            "0   2019-01-01  3850.913818  3707.231201  ...   4324200990  3843.520020    Tuesday\n",
            "1   2019-01-02  3947.981201  3817.409424  ...   5244856835  3943.409424  Wednesday\n",
            "2   2019-01-03  3935.685059  3826.222900  ...   4530215218  3836.741211   Thursday\n",
            "3   2019-01-04  3865.934570  3783.853760  ...   4847965467  3857.717529     Friday\n",
            "4   2019-01-05  3904.903076  3836.900146  ...   5137609823  3845.194580   Saturday\n",
            "..         ...          ...          ...  ...          ...          ...        ...\n",
            "361 2019-12-28  7399.041016  7286.905273  ...  21365673026  7317.990234   Saturday\n",
            "362 2019-12-29  7513.948242  7279.865234  ...  22445257701  7422.652832     Sunday\n",
            "363 2019-12-30  7454.824219  7276.308105  ...  22874131671  7292.995117     Monday\n",
            "364 2019-12-31  7335.290039  7169.777832  ...  21167946112  7193.599121    Tuesday\n",
            "365 2020-01-01  7254.330566  7174.944336  ...  18565664996  7200.174316  Wednesday\n",
            "\n",
            "[366 rows x 8 columns]\n"
          ],
          "name": "stdout"
        }
      ]
    },
    {
      "cell_type": "markdown",
      "metadata": {
        "id": "mT2kB4V8Edcf",
        "colab_type": "text"
      },
      "source": [
        "### Creando la columna Returns\n",
        "Se crea una columna nueva por cada datasets, con los retorno de los precios, definiendo esos retornos como el precio del dia n, menos el precio del dia n-1 tal como se visualiza en la siguiente ecuación:\n"
      ]
    },
    {
      "cell_type": "code",
      "metadata": {
        "id": "_iaaUtwU74k2",
        "colab_type": "code",
        "colab": {}
      },
      "source": [
        "btc['Return']=btc.Adj_Close.pct_change()"
      ],
      "execution_count": 0,
      "outputs": []
    },
    {
      "cell_type": "code",
      "metadata": {
        "id": "TUb6syTM8Ehi",
        "colab_type": "code",
        "outputId": "e89f9eb3-8a04-4350-da61-cb0ce8b18a7b",
        "colab": {
          "base_uri": "https://localhost:8080/",
          "height": 255
        }
      },
      "source": [
        "print(btc)"
      ],
      "execution_count": 0,
      "outputs": [
        {
          "output_type": "stream",
          "text": [
            "           Date         High          Low  ...    Adj_Close        Day    Return\n",
            "0    2016-01-01   436.246002   427.515015  ...   434.334015     Friday       NaN\n",
            "1    2016-01-02   436.062012   431.869995  ...   433.437988   Saturday -0.002063\n",
            "2    2016-01-03   433.743011   424.705994  ...   430.010986     Sunday -0.007907\n",
            "3    2016-01-04   434.516998   429.084015  ...   433.091003     Monday  0.007163\n",
            "4    2016-01-05   434.182007   429.675995  ...   431.959991    Tuesday -0.002611\n",
            "...         ...          ...          ...  ...          ...        ...       ...\n",
            "1578 2020-04-26  7795.601074  7679.418945  ...  7795.601074     Sunday  0.015070\n",
            "1579 2020-04-27  7814.527344  7730.806641  ...  7807.058594     Monday  0.001470\n",
            "1580 2020-04-28  8871.753906  7786.049316  ...  8801.038086    Tuesday  0.127318\n",
            "1581 2020-04-29  9440.650391  8533.255859  ...  8658.553711  Wednesday -0.016189\n",
            "1582 2020-04-30  9048.023438  8667.763672  ...  8864.766602   Thursday  0.023816\n",
            "\n",
            "[1583 rows x 9 columns]\n"
          ],
          "name": "stdout"
        }
      ]
    },
    {
      "cell_type": "markdown",
      "metadata": {
        "id": "_Gb6zSTA8MvE",
        "colab_type": "text"
      },
      "source": [
        "## Grafico Serie de Tiempo"
      ]
    },
    {
      "cell_type": "code",
      "metadata": {
        "id": "DXkTQsUH8R4I",
        "colab_type": "code",
        "outputId": "938c1daf-30b2-4bfd-84ac-3ed3d94a0099",
        "colab": {
          "base_uri": "https://localhost:8080/",
          "height": 54
        }
      },
      "source": [
        "print(plot.style.available)"
      ],
      "execution_count": 0,
      "outputs": [
        {
          "output_type": "stream",
          "text": [
            "['Solarize_Light2', '_classic_test_patch', 'bmh', 'classic', 'dark_background', 'fast', 'fivethirtyeight', 'ggplot', 'grayscale', 'seaborn', 'seaborn-bright', 'seaborn-colorblind', 'seaborn-dark', 'seaborn-dark-palette', 'seaborn-darkgrid', 'seaborn-deep', 'seaborn-muted', 'seaborn-notebook', 'seaborn-paper', 'seaborn-pastel', 'seaborn-poster', 'seaborn-talk', 'seaborn-ticks', 'seaborn-white', 'seaborn-whitegrid', 'tableau-colorblind10']\n"
          ],
          "name": "stdout"
        }
      ]
    },
    {
      "cell_type": "code",
      "metadata": {
        "id": "kGta3HxT8YSF",
        "colab_type": "code",
        "outputId": "749361d0-93d2-4cbb-a64b-df0922ed356a",
        "colab": {
          "base_uri": "https://localhost:8080/",
          "height": 513
        }
      },
      "source": [
        "plot.style.use('bmh')\n",
        "fix, ax = plot.subplots(2,1, figsize=(15,8), sharex=True)\n",
        "\n",
        "btc.Adj_Close.plot(ax=ax[0], color=['darkblue'])\n",
        "ax[0].set(title='Serie de Tiempo Bitcoin', ylabel='Precio U$S')\n",
        "\n",
        "btc.Return.plot(ax=ax[1], color=['green'])\n",
        "ax[1].set(ylabel='Retorno')"
      ],
      "execution_count": 0,
      "outputs": [
        {
          "output_type": "execute_result",
          "data": {
            "text/plain": [
              "[Text(0, 0.5, 'Retorno')]"
            ]
          },
          "metadata": {
            "tags": []
          },
          "execution_count": 21
        },
        {
          "output_type": "display_data",
          "data": {
            "image/png": "[encoded data removed]",
            "text/plain": [
              "<Figure size 1080x576 with 2 Axes>"
            ]
          },
          "metadata": {
            "tags": [],
            "needs_background": "light"
          }
        }
      ]
    }
  ]
}